{
 "cells": [
  {
   "cell_type": "markdown",
   "metadata": {},
   "source": [
    "## Conclusion on the Regression Attempts"
   ]
  },
  {
   "cell_type": "markdown",
   "metadata": {},
   "source": [
    "Across all the attempt to fit a model on different datasets (with/without outliers, with/without selection to columns), the `XGBRegressor` from `xgboost` performs the best on label-encoded dataset. We will tabulate the $R^2$ (on both training and testing set) values from the `XGBRegressor` regressions:"
   ]
  },
  {
   "cell_type": "markdown",
   "metadata": {
    "vscode": {
     "languageId": "plaintext"
    }
   },
   "source": [
    "#### On Label-encoding Dataset:"
   ]
  },
  {
   "cell_type": "markdown",
   "metadata": {
    "vscode": {
     "languageId": "plaintext"
    }
   },
   "source": [
    "| $R^2$ (train)     | w/ selection | w/o selection |\n",
    "| :---------------- |-------------:| ------------: |\n",
    "| w/ outliers       |   0.5774     | 0.8326        |\n",
    "| w/o outliers      |   0.5576     | 0.8284        |\n"
   ]
  },
  {
   "cell_type": "markdown",
   "metadata": {},
   "source": [
    "| $R^2$ (test)      | w/ selection | w/o selection |\n",
    "| :---------------- |-------------:| ------------: |\n",
    "| w/ outliers       |   0.58       | 0.83          |\n",
    "| w/o outliers      |   0.57       | 0.83          |\n"
   ]
  },
  {
   "cell_type": "markdown",
   "metadata": {},
   "source": [
    "From the results above, we can see that `XGBRegressor` performs the best on the dataset that includes all the columns (i.e., no selection). The presence of outliers slightly affects the wellness of fit on the train set, positively. Therefore, as an outcome for this machine learning part, we choose the model trained on `train_clean_imputed.csv` (with outliers, with all columns) as the best model that predicts `TimeTaken`."
   ]
  }
 ],
 "metadata": {
  "language_info": {
   "name": "python"
  }
 },
 "nbformat": 4,
 "nbformat_minor": 2
}
