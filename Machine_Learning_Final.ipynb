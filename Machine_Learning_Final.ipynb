{
 "cells": [
  {
   "cell_type": "markdown",
   "metadata": {},
   "source": [
    "## Conclusion on the Regression Attempts"
   ]
  },
  {
   "cell_type": "markdown",
   "metadata": {},
   "source": [
    "While `DecisionTreeRegressor` seemed to be as performant as `XGBRegressor` on the `_selcol` datasets, the models trained on those datasets are not particularly desirable (with overall low wellness of fit), this could be due to the loss of features when columns are dropped.\n",
    "\n",
    "For the datasets that contain all columns, `XGBRegressor` from `xgboost` performs the best when the categorial data are label-encoded. We will tabulate the $R^2$ (on both training and testing set) values from the `XGBRegressor` regressions, attempts on `_selcol` datasets are also added for comparison:"
   ]
  },
  {
   "cell_type": "markdown",
   "metadata": {
    "vscode": {
     "languageId": "plaintext"
    }
   },
   "source": [
    "#### On Label-encoding Dataset:"
   ]
  },
  {
   "cell_type": "markdown",
   "metadata": {
    "vscode": {
     "languageId": "plaintext"
    }
   },
   "source": [
    "| $R^2$ (train)     | w/ selection | w/o selection |\n",
    "| :---------------- |-------------:| ------------: |\n",
    "| w/ outliers       |   0.5774     | 0.8326        |\n",
    "| w/o outliers      |   0.5576     | 0.8284        |\n"
   ]
  },
  {
   "cell_type": "markdown",
   "metadata": {},
   "source": [
    "| $R^2$ (test)      | w/ selection | w/o selection |\n",
    "| :---------------- |-------------:| ------------: |\n",
    "| w/ outliers       |   0.58       | 0.83          |\n",
    "| w/o outliers      |   0.57       | 0.83          |\n"
   ]
  },
  {
   "cell_type": "markdown",
   "metadata": {},
   "source": [
    "Note that the presence of outliers slightly increases the wellness of fit on the train set (and the test set)."
   ]
  },
  {
   "cell_type": "markdown",
   "metadata": {},
   "source": [
    "As an outcome for this machine learning part, we choose the model trained on `train_clean_imputed.csv` (with outliers, with all columns, label-encoded data) as the best model that predicts `TimeTaken`."
   ]
  },
  {
   "cell_type": "markdown",
   "metadata": {},
   "source": [
    "To further derive information from the model, we can find out which of the features were the most significant for prediction. In particular, we look at the `gain` of a feature, which is the average of improvements on the model's loss function achieved by partitioning the dataset based on the feature's value.\n",
    "\n",
    "The code cells below are mostly about repreparing the dataset and retraining the model."
   ]
  },
  {
   "cell_type": "code",
   "execution_count": 18,
   "metadata": {},
   "outputs": [],
   "source": [
    "import pandas as pd\n",
    "from sklearn.model_selection import train_test_split\n",
    "from sklearn.preprocessing import StandardScaler\n",
    "from sklearn.preprocessing import LabelEncoder\n",
    "from xgboost import XGBRegressor"
   ]
  },
  {
   "cell_type": "code",
   "execution_count": 19,
   "metadata": {},
   "outputs": [],
   "source": [
    "data = pd.read_csv(\"train_cleaned_imputed.csv\")"
   ]
  },
  {
   "cell_type": "code",
   "execution_count": 20,
   "metadata": {},
   "outputs": [
    {
     "data": {
      "text/html": [
       "<div>\n",
       "<style scoped>\n",
       "    .dataframe tbody tr th:only-of-type {\n",
       "        vertical-align: middle;\n",
       "    }\n",
       "\n",
       "    .dataframe tbody tr th {\n",
       "        vertical-align: top;\n",
       "    }\n",
       "\n",
       "    .dataframe thead th {\n",
       "        text-align: right;\n",
       "    }\n",
       "</style>\n",
       "<table border=\"1\" class=\"dataframe\">\n",
       "  <thead>\n",
       "    <tr style=\"text-align: right;\">\n",
       "      <th></th>\n",
       "      <th>Age</th>\n",
       "      <th>Ratings</th>\n",
       "      <th>RestaurantLat</th>\n",
       "      <th>RestaurantLon</th>\n",
       "      <th>DeliveryLocationLat</th>\n",
       "      <th>DeliveryLocationLon</th>\n",
       "      <th>TimeOrderPickedUp</th>\n",
       "      <th>WeatherConditions</th>\n",
       "      <th>RoadTrafficDensity</th>\n",
       "      <th>VehicleCondition</th>\n",
       "      <th>TypeOfOrder</th>\n",
       "      <th>TypeOfVehicle</th>\n",
       "      <th>MultipleDeliveries</th>\n",
       "      <th>Festival</th>\n",
       "      <th>City</th>\n",
       "      <th>TimeTaken</th>\n",
       "      <th>Distance</th>\n",
       "      <th>Day</th>\n",
       "      <th>Hour</th>\n",
       "      <th>OrderPeriod</th>\n",
       "    </tr>\n",
       "  </thead>\n",
       "  <tbody>\n",
       "    <tr>\n",
       "      <th>0</th>\n",
       "      <td>37</td>\n",
       "      <td>4.9</td>\n",
       "      <td>22.745049</td>\n",
       "      <td>75.892471</td>\n",
       "      <td>22.765049</td>\n",
       "      <td>75.912471</td>\n",
       "      <td>46</td>\n",
       "      <td>4</td>\n",
       "      <td>0</td>\n",
       "      <td>2</td>\n",
       "      <td>3</td>\n",
       "      <td>1</td>\n",
       "      <td>0</td>\n",
       "      <td>0</td>\n",
       "      <td>2</td>\n",
       "      <td>24</td>\n",
       "      <td>3.025149</td>\n",
       "      <td>2</td>\n",
       "      <td>11</td>\n",
       "      <td>2</td>\n",
       "    </tr>\n",
       "    <tr>\n",
       "      <th>1</th>\n",
       "      <td>34</td>\n",
       "      <td>4.5</td>\n",
       "      <td>12.913041</td>\n",
       "      <td>77.683237</td>\n",
       "      <td>13.043041</td>\n",
       "      <td>77.813237</td>\n",
       "      <td>143</td>\n",
       "      <td>3</td>\n",
       "      <td>1</td>\n",
       "      <td>2</td>\n",
       "      <td>3</td>\n",
       "      <td>2</td>\n",
       "      <td>1</td>\n",
       "      <td>0</td>\n",
       "      <td>0</td>\n",
       "      <td>33</td>\n",
       "      <td>20.183530</td>\n",
       "      <td>0</td>\n",
       "      <td>19</td>\n",
       "      <td>1</td>\n",
       "    </tr>\n",
       "    <tr>\n",
       "      <th>2</th>\n",
       "      <td>23</td>\n",
       "      <td>4.4</td>\n",
       "      <td>12.914264</td>\n",
       "      <td>77.678400</td>\n",
       "      <td>12.924264</td>\n",
       "      <td>77.688400</td>\n",
       "      <td>10</td>\n",
       "      <td>2</td>\n",
       "      <td>2</td>\n",
       "      <td>0</td>\n",
       "      <td>1</td>\n",
       "      <td>1</td>\n",
       "      <td>1</td>\n",
       "      <td>0</td>\n",
       "      <td>2</td>\n",
       "      <td>26</td>\n",
       "      <td>1.552758</td>\n",
       "      <td>2</td>\n",
       "      <td>8</td>\n",
       "      <td>2</td>\n",
       "    </tr>\n",
       "    <tr>\n",
       "      <th>3</th>\n",
       "      <td>38</td>\n",
       "      <td>4.7</td>\n",
       "      <td>11.003669</td>\n",
       "      <td>76.976494</td>\n",
       "      <td>11.053669</td>\n",
       "      <td>77.026494</td>\n",
       "      <td>123</td>\n",
       "      <td>4</td>\n",
       "      <td>3</td>\n",
       "      <td>0</td>\n",
       "      <td>0</td>\n",
       "      <td>1</td>\n",
       "      <td>1</td>\n",
       "      <td>0</td>\n",
       "      <td>0</td>\n",
       "      <td>21</td>\n",
       "      <td>7.790401</td>\n",
       "      <td>5</td>\n",
       "      <td>18</td>\n",
       "      <td>1</td>\n",
       "    </tr>\n",
       "    <tr>\n",
       "      <th>4</th>\n",
       "      <td>32</td>\n",
       "      <td>4.6</td>\n",
       "      <td>12.972793</td>\n",
       "      <td>80.249982</td>\n",
       "      <td>13.012793</td>\n",
       "      <td>80.289982</td>\n",
       "      <td>70</td>\n",
       "      <td>0</td>\n",
       "      <td>0</td>\n",
       "      <td>1</td>\n",
       "      <td>3</td>\n",
       "      <td>2</td>\n",
       "      <td>1</td>\n",
       "      <td>0</td>\n",
       "      <td>0</td>\n",
       "      <td>30</td>\n",
       "      <td>6.210138</td>\n",
       "      <td>2</td>\n",
       "      <td>13</td>\n",
       "      <td>0</td>\n",
       "    </tr>\n",
       "  </tbody>\n",
       "</table>\n",
       "</div>"
      ],
      "text/plain": [
       "   Age  Ratings  RestaurantLat  ...  Day  Hour  OrderPeriod\n",
       "0   37      4.9      22.745049  ...    2    11            2\n",
       "1   34      4.5      12.913041  ...    0    19            1\n",
       "2   23      4.4      12.914264  ...    2     8            2\n",
       "3   38      4.7      11.003669  ...    5    18            1\n",
       "4   32      4.6      12.972793  ...    2    13            0\n",
       "\n",
       "[5 rows x 20 columns]"
      ]
     },
     "execution_count": 20,
     "metadata": {},
     "output_type": "execute_result"
    }
   ],
   "source": [
    "def label_encoding(datale):\n",
    "    categorical_columns = datale.select_dtypes(include=\"object\").columns\n",
    "    label_encoder = LabelEncoder()\n",
    "    datale[categorical_columns] = datale[categorical_columns].apply(\n",
    "        lambda col: label_encoder.fit_transform(col)\n",
    "    )\n",
    "\n",
    "\n",
    "datale = data\n",
    "label_encoding(datale)\n",
    "datale.head()"
   ]
  },
  {
   "cell_type": "code",
   "execution_count": 21,
   "metadata": {},
   "outputs": [
    {
     "name": "stdout",
     "output_type": "stream",
     "text": [
      "(30264, 19)\n",
      "(30264,)\n",
      "(10089, 19)\n",
      "(10089,)\n"
     ]
    }
   ],
   "source": [
    "X = datale.drop(\"TimeTaken\", axis=1)  # Features\n",
    "y = datale[\"TimeTaken\"]  # Target variable\n",
    "\n",
    "X_train, X_test, y_train, y_test = train_test_split(\n",
    "    X, y, test_size=0.25, random_state=42\n",
    ")\n",
    "print(X_train.shape)\n",
    "print(y_train.shape)\n",
    "print(X_test.shape)\n",
    "print(y_test.shape)"
   ]
  },
  {
   "cell_type": "code",
   "execution_count": 22,
   "metadata": {},
   "outputs": [],
   "source": [
    "# Create a StandardScaler object\n",
    "scaler = StandardScaler()\n",
    "\n",
    "# Fit the scaler on the training data\n",
    "scaler.fit(X_train)\n",
    "\n",
    "# Perform standardization on the training data\n",
    "X_train = scaler.transform(X_train)\n",
    "\n",
    "# Perform standardization on the testing data\n",
    "X_test = scaler.transform(X_test)"
   ]
  },
  {
   "cell_type": "code",
   "execution_count": 23,
   "metadata": {},
   "outputs": [],
   "source": [
    "# Create a XGB regressor model\n",
    "model = XGBRegressor(n_estimators=20, max_depth=7)\n",
    "\n",
    "# Fit the model on the training data\n",
    "model.fit(X_train, y_train)\n",
    "\n",
    "# Get feature importance\n",
    "f_importance = model.get_booster().get_score(importance_type=\"gain\")"
   ]
  },
  {
   "cell_type": "code",
   "execution_count": 24,
   "metadata": {},
   "outputs": [
    {
     "data": {
      "text/plain": [
       "<Axes: >"
      ]
     },
     "execution_count": 24,
     "metadata": {},
     "output_type": "execute_result"
    },
    {
     "data": {
      "image/png": "[encoded data removed]",
      "text/plain": [
       "<Figure size 640x480 with 1 Axes>"
      ]
     },
     "metadata": {},
     "output_type": "display_data"
    }
   ],
   "source": [
    "# visualise the importance of features\n",
    "importance_df = pd.DataFrame.from_dict(data=f_importance, orient=\"index\")\n",
    "importance_df.plot.bar()"
   ]
  },
  {
   "cell_type": "markdown",
   "metadata": {},
   "source": [
    "```\n",
    "Data columns (total 20 columns):\n",
    " #   Column               Non-Null Count  Dtype  \n",
    "---  ------               --------------  -----  \n",
    " 0   Age                  40353 non-null  int64  \n",
    " 1   Ratings              40353 non-null  float64\n",
    " 2   RestaurantLat        40353 non-null  float64\n",
    " 3   RestaurantLon        40353 non-null  float64\n",
    " 4   DeliveryLocationLat  40353 non-null  float64\n",
    " 5   DeliveryLocationLon  40353 non-null  float64\n",
    " 6   TimeOrderPickedUp    40353 non-null  object \n",
    " 7   WeatherConditions    40353 non-null  object \n",
    " 8   RoadTrafficDensity   40353 non-null  object \n",
    " 9   VehicleCondition     40353 non-null  int64  \n",
    " 10  TypeOfOrder          40353 non-null  object \n",
    " 11  TypeOfVehicle        40353 non-null  object \n",
    " 12  MultipleDeliveries   40353 non-null  int64  \n",
    " 13  Festival             40353 non-null  object \n",
    " 14  City                 40353 non-null  object \n",
    " 15  TimeTaken            40353 non-null  int64  \n",
    " 16  Distance             40353 non-null  float64\n",
    " 17  Day                  40353 non-null  object \n",
    " 18  Hour                 40353 non-null  int64  \n",
    " 19  OrderPeriod          40353 non-null  object \n",
    "```"
   ]
  },
  {
   "cell_type": "markdown",
   "metadata": {},
   "source": [
    "^ use the list above to retrieve the name of each feature by their indices\n",
    "\n",
    "From this, we can conclude that, the top three most significant features for prediction is, from the first place, `MultipleDeliveries`, `Ratings`, and lastly `RoadTrafficDensity`."
   ]
  }
 ],
 "metadata": {
  "kernelspec": {
   "display_name": "Python 3",
   "language": "python",
   "name": "python3"
  },
  "language_info": {
   "codemirror_mode": {
    "name": "ipython",
    "version": 3
   },
   "file_extension": ".py",
   "mimetype": "text/x-python",
   "name": "python",
   "nbconvert_exporter": "python",
   "pygments_lexer": "ipython3",
   "version": "3.12.0"
  }
 },
 "nbformat": 4,
 "nbformat_minor": 2
}
