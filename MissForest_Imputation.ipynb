{
 "cells": [
  {
   "cell_type": "markdown",
   "id": "31c1dc1f",
   "metadata": {},
   "source": [
    "## Using `MissForest` to Impute Missing Values in `MultipleDeliveries`"
   ]
  },
  {
   "cell_type": "markdown",
   "id": "95c98ab8",
   "metadata": {},
   "source": [
    "Missing values are indicated by -1 in `MultipleDeliveries`. We will use the machine learning feature in `MissForest` to predict and fill those missing entries."
   ]
  },
  {
   "cell_type": "code",
   "execution_count": 2,
   "id": "418c2024",
   "metadata": {},
   "outputs": [],
   "source": [
    "import numpy as np\n",
    "import pandas as pd\n",
    "import seaborn as sb\n",
    "import matplotlib.pyplot as plt\n",
    "from missforest.missforest import MissForest\n",
    "#pip install lightgbm\n",
    "#pip install scikit-learn\n",
    "#pip install MissForest"
   ]
  },
  {
   "cell_type": "code",
   "execution_count": 3,
   "id": "a8fe9a73",
   "metadata": {},
   "outputs": [
    {
     "data": {
      "text/html": [
       "<div>\n",
       "<style scoped>\n",
       "    .dataframe tbody tr th:only-of-type {\n",
       "        vertical-align: middle;\n",
       "    }\n",
       "\n",
       "    .dataframe tbody tr th {\n",
       "        vertical-align: top;\n",
       "    }\n",
       "\n",
       "    .dataframe thead th {\n",
       "        text-align: right;\n",
       "    }\n",
       "</style>\n",
       "<table border=\"1\" class=\"dataframe\">\n",
       "  <thead>\n",
       "    <tr style=\"text-align: right;\">\n",
       "      <th></th>\n",
       "      <th>Age</th>\n",
       "      <th>Ratings</th>\n",
       "      <th>RestaurantLat</th>\n",
       "      <th>RestaurantLon</th>\n",
       "      <th>DeliveryLocationLat</th>\n",
       "      <th>DeliveryLocationLon</th>\n",
       "      <th>TimeOrderPickedUp</th>\n",
       "      <th>WeatherConditions</th>\n",
       "      <th>RoadTrafficDensity</th>\n",
       "      <th>VehicleCondition</th>\n",
       "      <th>TypeOfOrder</th>\n",
       "      <th>TypeOfVehicle</th>\n",
       "      <th>MultipleDeliveries</th>\n",
       "      <th>Festival</th>\n",
       "      <th>City</th>\n",
       "      <th>TimeTaken</th>\n",
       "      <th>Distance</th>\n",
       "      <th>Day</th>\n",
       "      <th>Hour</th>\n",
       "    </tr>\n",
       "  </thead>\n",
       "  <tbody>\n",
       "    <tr>\n",
       "      <th>0</th>\n",
       "      <td>37.0</td>\n",
       "      <td>4.9</td>\n",
       "      <td>22.745049</td>\n",
       "      <td>75.892471</td>\n",
       "      <td>22.765049</td>\n",
       "      <td>75.912471</td>\n",
       "      <td>11:45:00</td>\n",
       "      <td>conditions Sunny</td>\n",
       "      <td>High</td>\n",
       "      <td>2</td>\n",
       "      <td>Snack</td>\n",
       "      <td>motorcycle</td>\n",
       "      <td>0</td>\n",
       "      <td>No</td>\n",
       "      <td>Urban</td>\n",
       "      <td>24</td>\n",
       "      <td>3.025149</td>\n",
       "      <td>Saturday</td>\n",
       "      <td>11</td>\n",
       "    </tr>\n",
       "    <tr>\n",
       "      <th>1</th>\n",
       "      <td>34.0</td>\n",
       "      <td>4.5</td>\n",
       "      <td>12.913041</td>\n",
       "      <td>77.683237</td>\n",
       "      <td>13.043041</td>\n",
       "      <td>77.813237</td>\n",
       "      <td>19:50:00</td>\n",
       "      <td>conditions Stormy</td>\n",
       "      <td>Jam</td>\n",
       "      <td>2</td>\n",
       "      <td>Snack</td>\n",
       "      <td>scooter</td>\n",
       "      <td>1</td>\n",
       "      <td>No</td>\n",
       "      <td>Metropolitian</td>\n",
       "      <td>33</td>\n",
       "      <td>20.183530</td>\n",
       "      <td>Friday</td>\n",
       "      <td>19</td>\n",
       "    </tr>\n",
       "    <tr>\n",
       "      <th>2</th>\n",
       "      <td>23.0</td>\n",
       "      <td>4.4</td>\n",
       "      <td>12.914264</td>\n",
       "      <td>77.678400</td>\n",
       "      <td>12.924264</td>\n",
       "      <td>77.688400</td>\n",
       "      <td>08:45:00</td>\n",
       "      <td>conditions Sandstorms</td>\n",
       "      <td>Low</td>\n",
       "      <td>0</td>\n",
       "      <td>Drinks</td>\n",
       "      <td>motorcycle</td>\n",
       "      <td>1</td>\n",
       "      <td>No</td>\n",
       "      <td>Urban</td>\n",
       "      <td>26</td>\n",
       "      <td>1.552758</td>\n",
       "      <td>Saturday</td>\n",
       "      <td>8</td>\n",
       "    </tr>\n",
       "    <tr>\n",
       "      <th>3</th>\n",
       "      <td>38.0</td>\n",
       "      <td>4.7</td>\n",
       "      <td>11.003669</td>\n",
       "      <td>76.976494</td>\n",
       "      <td>11.053669</td>\n",
       "      <td>77.026494</td>\n",
       "      <td>18:10:00</td>\n",
       "      <td>conditions Sunny</td>\n",
       "      <td>Medium</td>\n",
       "      <td>0</td>\n",
       "      <td>Buffet</td>\n",
       "      <td>motorcycle</td>\n",
       "      <td>1</td>\n",
       "      <td>No</td>\n",
       "      <td>Metropolitian</td>\n",
       "      <td>21</td>\n",
       "      <td>7.790401</td>\n",
       "      <td>Tuesday</td>\n",
       "      <td>18</td>\n",
       "    </tr>\n",
       "    <tr>\n",
       "      <th>4</th>\n",
       "      <td>32.0</td>\n",
       "      <td>4.6</td>\n",
       "      <td>12.972793</td>\n",
       "      <td>80.249982</td>\n",
       "      <td>13.012793</td>\n",
       "      <td>80.289982</td>\n",
       "      <td>13:45:00</td>\n",
       "      <td>conditions Cloudy</td>\n",
       "      <td>High</td>\n",
       "      <td>1</td>\n",
       "      <td>Snack</td>\n",
       "      <td>scooter</td>\n",
       "      <td>1</td>\n",
       "      <td>No</td>\n",
       "      <td>Metropolitian</td>\n",
       "      <td>30</td>\n",
       "      <td>6.210138</td>\n",
       "      <td>Saturday</td>\n",
       "      <td>13</td>\n",
       "    </tr>\n",
       "  </tbody>\n",
       "</table>\n",
       "</div>"
      ],
      "text/plain": [
       "    Age  Ratings  RestaurantLat  RestaurantLon  DeliveryLocationLat  \\\n",
       "0  37.0      4.9      22.745049      75.892471            22.765049   \n",
       "1  34.0      4.5      12.913041      77.683237            13.043041   \n",
       "2  23.0      4.4      12.914264      77.678400            12.924264   \n",
       "3  38.0      4.7      11.003669      76.976494            11.053669   \n",
       "4  32.0      4.6      12.972793      80.249982            13.012793   \n",
       "\n",
       "   DeliveryLocationLon TimeOrderPickedUp      WeatherConditions  \\\n",
       "0            75.912471          11:45:00       conditions Sunny   \n",
       "1            77.813237          19:50:00      conditions Stormy   \n",
       "2            77.688400          08:45:00  conditions Sandstorms   \n",
       "3            77.026494          18:10:00       conditions Sunny   \n",
       "4            80.289982          13:45:00      conditions Cloudy   \n",
       "\n",
       "  RoadTrafficDensity  VehicleCondition TypeOfOrder TypeOfVehicle  \\\n",
       "0              High                  2      Snack    motorcycle    \n",
       "1               Jam                  2      Snack       scooter    \n",
       "2               Low                  0     Drinks    motorcycle    \n",
       "3            Medium                  0     Buffet    motorcycle    \n",
       "4              High                  1      Snack       scooter    \n",
       "\n",
       "   MultipleDeliveries Festival            City  TimeTaken   Distance  \\\n",
       "0                   0      No           Urban          24   3.025149   \n",
       "1                   1      No   Metropolitian          33  20.183530   \n",
       "2                   1      No           Urban          26   1.552758   \n",
       "3                   1      No   Metropolitian          21   7.790401   \n",
       "4                   1      No   Metropolitian          30   6.210138   \n",
       "\n",
       "        Day  Hour  \n",
       "0  Saturday    11  \n",
       "1    Friday    19  \n",
       "2  Saturday     8  \n",
       "3   Tuesday    18  \n",
       "4  Saturday    13  "
      ]
     },
     "execution_count": 3,
     "metadata": {},
     "output_type": "execute_result"
    }
   ],
   "source": [
    "data = pd.read_csv(\"train_cleaned.csv\")\n",
    "data.head()"
   ]
  },
  {
   "cell_type": "code",
   "execution_count": 4,
   "id": "37e7bda4",
   "metadata": {},
   "outputs": [
    {
     "name": "stdout",
     "output_type": "stream",
     "text": [
      "<class 'pandas.core.frame.DataFrame'>\n",
      "RangeIndex: 40353 entries, 0 to 40352\n",
      "Data columns (total 19 columns):\n",
      " #   Column               Non-Null Count  Dtype  \n",
      "---  ------               --------------  -----  \n",
      " 0   Age                  40353 non-null  float64\n",
      " 1   Ratings              40353 non-null  float64\n",
      " 2   RestaurantLat        40353 non-null  float64\n",
      " 3   RestaurantLon        40353 non-null  float64\n",
      " 4   DeliveryLocationLat  40353 non-null  float64\n",
      " 5   DeliveryLocationLon  40353 non-null  float64\n",
      " 6   TimeOrderPickedUp    40353 non-null  object \n",
      " 7   WeatherConditions    40353 non-null  object \n",
      " 8   RoadTrafficDensity   40353 non-null  object \n",
      " 9   VehicleCondition     40353 non-null  int64  \n",
      " 10  TypeOfOrder          40353 non-null  object \n",
      " 11  TypeOfVehicle        40353 non-null  object \n",
      " 12  MultipleDeliveries   40353 non-null  int64  \n",
      " 13  Festival             40353 non-null  object \n",
      " 14  City                 40353 non-null  object \n",
      " 15  TimeTaken            40353 non-null  int64  \n",
      " 16  Distance             40353 non-null  float64\n",
      " 17  Day                  40353 non-null  object \n",
      " 18  Hour                 40353 non-null  int64  \n",
      "dtypes: float64(7), int64(4), object(8)\n",
      "memory usage: 5.8+ MB\n"
     ]
    }
   ],
   "source": [
    "data.info()"
   ]
  },
  {
   "cell_type": "markdown",
   "id": "2656abd5",
   "metadata": {},
   "source": [
    "Since `MissForest` do not accept time series, we write a function `categorize_time` map the values in `Hour` to a new categorical variable called `OrderPeriod`."
   ]
  },
  {
   "cell_type": "code",
   "execution_count": 5,
   "id": "56081890",
   "metadata": {},
   "outputs": [],
   "source": [
    "# Convert hour to categories based on time of day\n",
    "def categorize_time(hour):\n",
    "    if 6 <= hour < 12:\n",
    "        return 'morning'\n",
    "    elif 12 <= hour < 18:\n",
    "        return 'afternoon'\n",
    "    elif 18 <= hour < 24:\n",
    "        return 'evening'\n",
    "    else:\n",
    "        return 'night'\n",
    "\n",
    "# Apply categorization function to your hour column\n",
    "data['OrderPeriod'] = data['Hour'].apply(categorize_time)\n",
    "\n",
    "# Convert the newly created category column to categorical data type\n",
    "data['OrderPeriod'] = pd.Categorical(data['OrderPeriod'], categories=['morning', 'afternoon', 'evening', 'night'], ordered=True)\n"
   ]
  },
  {
   "cell_type": "markdown",
   "id": "ce33a4fc",
   "metadata": {},
   "source": [
    "### Convert missing data back to `np.nan`\n",
    "Previously we converted missing data to -1 to change the datatype from `object` to `int32`. Now we have to convert the missing data back to `np.nan` so that `missforest` can impute the missing data."
   ]
  },
  {
   "cell_type": "code",
   "execution_count": 6,
   "id": "5fc56a03",
   "metadata": {},
   "outputs": [
    {
     "name": "stderr",
     "output_type": "stream",
     "text": [
      "C:\\Users\\user\\AppData\\Local\\Temp\\ipykernel_4328\\2097651179.py:2: FutureWarning: A value is trying to be set on a copy of a DataFrame or Series through chained assignment using an inplace method.\n",
      "The behavior will change in pandas 3.0. This inplace method will never work because the intermediate object on which we are setting values always behaves as a copy.\n",
      "\n",
      "For example, when doing 'df[col].method(value, inplace=True)', try using 'df.method({col: value}, inplace=True)' or df[col] = df[col].method(value) instead, to perform the operation inplace on the original object.\n",
      "\n",
      "\n",
      "  data['MultipleDeliveries'].replace(-1 , np.nan, inplace=True)\n"
     ]
    }
   ],
   "source": [
    "#Convert missing value back to NaN\n",
    "data['MultipleDeliveries'].replace(-1 , np.nan, inplace=True)"
   ]
  },
  {
   "cell_type": "markdown",
   "id": "c4723f04",
   "metadata": {},
   "source": [
    "### Selecting variables\n",
    "Now we select the variables that can be used in the prediction."
   ]
  },
  {
   "cell_type": "code",
   "execution_count": 7,
   "id": "8f2400da",
   "metadata": {},
   "outputs": [],
   "source": [
    "columnstokeep = ['Age', 'Ratings', 'WeatherConditions', 'RoadTrafficDensity', 'VehicleCondition',\n",
    "                 'TypeOfOrder', 'MultipleDeliveries', 'Festival', 'City', 'TimeTaken','Distance', 'Day', 'OrderPeriod']\n",
    "\n",
    "Cleanedforimpute = data.loc[:, columnstokeep].copy()"
   ]
  },
  {
   "cell_type": "markdown",
   "id": "ee4ded22",
   "metadata": {},
   "source": [
    "#### Convert non numerical values"
   ]
  },
  {
   "cell_type": "code",
   "execution_count": 8,
   "id": "6cb01a55",
   "metadata": {},
   "outputs": [],
   "source": [
    "# Get the list of nominal columns\n",
    "nominal_columns = list(Cleanedforimpute.select_dtypes(include=[\"object\", \"category\"]).columns)\n",
    "\n",
    "# Get the indices of the nominal columns\n",
    "cat = Cleanedforimpute[Cleanedforimpute.select_dtypes('object').columns]  \n",
    "cat_ind = [Cleanedforimpute.columns.get_loc(c) for c in cat]\n",
    "\n",
    "# Translate categorical fields to numeric\n",
    "from sklearn import preprocessing\n",
    "col_le = {}\n",
    "Cleanedforimpute_trans = Cleanedforimpute.copy()\n",
    "for col in nominal_columns:\n",
    "    le = preprocessing.LabelEncoder()\n",
    "    le.fit(Cleanedforimpute[col])\n",
    "    Cleanedforimpute_trans[col] = le.transform(Cleanedforimpute[col])\n",
    "    col_le[col] = le\n",
    "\n",
    "# Add back in the NaNs\n",
    "for col in nominal_columns:\n",
    "    new_values = []\n",
    "    for i in range(len(Cleanedforimpute)):\n",
    "        if pd.isna(Cleanedforimpute.loc[i][col]):\n",
    "            new_values.append(np.nan)\n",
    "        else:\n",
    "            new_values.append(Cleanedforimpute_trans.loc[i][col])\n",
    "    Cleanedforimpute_trans[col] = new_values\n"
   ]
  },
  {
   "cell_type": "code",
   "execution_count": 9,
   "id": "b1d1f94b",
   "metadata": {},
   "outputs": [
    {
     "name": "stderr",
     "output_type": "stream",
     "text": [
      "c:\\Users\\user\\AppData\\Local\\Programs\\Python\\Python312\\Lib\\site-packages\\missforest\\missforest.py:227: FutureWarning: A value is trying to be set on a copy of a DataFrame or Series through chained assignment using an inplace method.\n",
      "The behavior will change in pandas 3.0. This inplace method will never work because the intermediate object on which we are setting values always behaves as a copy.\n",
      "\n",
      "For example, when doing 'df[col].method(value, inplace=True)', try using 'df.method({col: value}, inplace=True)' or df[col] = df[col].method(value) instead, to perform the operation inplace on the original object.\n",
      "\n",
      "\n",
      "  x[c].fillna(initial_imputations[c], inplace=True)\n"
     ]
    },
    {
     "name": "stdout",
     "output_type": "stream",
     "text": [
      "[LightGBM] [Info] Auto-choosing col-wise multi-threading, the overhead of testing was 0.003668 seconds.\n",
      "You can set `force_col_wise=true` to remove the overhead.\n",
      "[LightGBM] [Info] Total Bins 383\n",
      "[LightGBM] [Info] Number of data points in the train set: 39498, number of used features: 12\n",
      "[LightGBM] [Info] Start training from score 0.744620\n",
      "[LightGBM] [Info] Auto-choosing row-wise multi-threading, the overhead of testing was 0.001547 seconds.\n",
      "You can set `force_row_wise=true` to remove the overhead.\n",
      "And if memory is not enough, you can set `force_col_wise=true`.\n",
      "[LightGBM] [Info] Total Bins 383\n",
      "[LightGBM] [Info] Number of data points in the train set: 39498, number of used features: 12\n",
      "[LightGBM] [Info] Start training from score 0.744620\n",
      "[LightGBM] [Info] Auto-choosing row-wise multi-threading, the overhead of testing was 0.001622 seconds.\n",
      "You can set `force_row_wise=true` to remove the overhead.\n",
      "And if memory is not enough, you can set `force_col_wise=true`.\n",
      "[LightGBM] [Info] Total Bins 383\n",
      "[LightGBM] [Info] Number of data points in the train set: 39498, number of used features: 12\n",
      "[LightGBM] [Info] Start training from score 0.744620\n",
      "[LightGBM] [Info] Auto-choosing row-wise multi-threading, the overhead of testing was 0.001452 seconds.\n",
      "You can set `force_row_wise=true` to remove the overhead.\n",
      "And if memory is not enough, you can set `force_col_wise=true`.\n",
      "[LightGBM] [Info] Total Bins 383\n",
      "[LightGBM] [Info] Number of data points in the train set: 39498, number of used features: 12\n",
      "[LightGBM] [Info] Start training from score 0.744620\n",
      "[LightGBM] [Info] Auto-choosing row-wise multi-threading, the overhead of testing was 0.001696 seconds.\n",
      "You can set `force_row_wise=true` to remove the overhead.\n",
      "And if memory is not enough, you can set `force_col_wise=true`.\n",
      "[LightGBM] [Info] Total Bins 383\n",
      "[LightGBM] [Info] Number of data points in the train set: 39498, number of used features: 12\n",
      "[LightGBM] [Info] Start training from score 0.744620\n",
      "[LightGBM] [Info] Auto-choosing row-wise multi-threading, the overhead of testing was 0.001582 seconds.\n",
      "You can set `force_row_wise=true` to remove the overhead.\n",
      "And if memory is not enough, you can set `force_col_wise=true`.\n",
      "[LightGBM] [Info] Total Bins 383\n",
      "[LightGBM] [Info] Number of data points in the train set: 39498, number of used features: 12\n",
      "[LightGBM] [Info] Start training from score 0.744620\n"
     ]
    }
   ],
   "source": [
    "# Initialize the magical forest\n",
    "imputer = MissForest()\n",
    "\n",
    "# Impute away\n",
    "data_imputed = imputer.fit_transform(Cleanedforimpute_trans)"
   ]
  },
  {
   "cell_type": "code",
   "execution_count": 10,
   "id": "b4477435",
   "metadata": {},
   "outputs": [
    {
     "data": {
      "text/plain": [
       "count    40353.000000\n",
       "mean         0.742851\n",
       "std          0.567109\n",
       "min          0.000000\n",
       "25%          0.000000\n",
       "50%          1.000000\n",
       "75%          1.000000\n",
       "max          3.000000\n",
       "Name: MultipleDeliveries, dtype: float64"
      ]
     },
     "execution_count": 10,
     "metadata": {},
     "output_type": "execute_result"
    }
   ],
   "source": [
    "data_imputed['MultipleDeliveries'].describe()"
   ]
  },
  {
   "cell_type": "markdown",
   "id": "373bc6bf",
   "metadata": {},
   "source": [
    "Now we put the imputed data back into the original dataframe."
   ]
  },
  {
   "cell_type": "code",
   "execution_count": 11,
   "id": "cf58263d",
   "metadata": {},
   "outputs": [],
   "source": [
    "data['MultipleDeliveries'] = data_imputed['MultipleDeliveries']"
   ]
  },
  {
   "cell_type": "code",
   "execution_count": 12,
   "id": "1491cef3",
   "metadata": {},
   "outputs": [],
   "source": [
    "data['MultipleDeliveries'] = data['MultipleDeliveries'].astype(int)"
   ]
  },
  {
   "cell_type": "code",
   "execution_count": 13,
   "id": "82b07014",
   "metadata": {},
   "outputs": [],
   "source": [
    "data['Age'] = data['Age'].astype(int)"
   ]
  },
  {
   "cell_type": "markdown",
   "id": "6bc8f26b",
   "metadata": {},
   "source": [
    "### Exporting data "
   ]
  },
  {
   "cell_type": "code",
   "execution_count": 14,
   "id": "31e16703",
   "metadata": {},
   "outputs": [],
   "source": [
    "data.to_csv(r'train_cleaned_imputed.csv', index=False)"
   ]
  }
 ],
 "metadata": {
  "kernelspec": {
   "display_name": "Python 3 (ipykernel)",
   "language": "python",
   "name": "python3"
  },
  "language_info": {
   "codemirror_mode": {
    "name": "ipython",
    "version": 3
   },
   "file_extension": ".py",
   "mimetype": "text/x-python",
   "name": "python",
   "nbconvert_exporter": "python",
   "pygments_lexer": "ipython3",
   "version": "3.12.0"
  }
 },
 "nbformat": 4,
 "nbformat_minor": 5
}
