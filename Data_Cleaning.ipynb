{
 "cells": [
  {
   "cell_type": "code",
   "execution_count": 1,
   "id": "b440d713-ce20-4956-bd54-ca363fd11b55",
   "metadata": {},
   "outputs": [],
   "source": [
    "import pandas as pd\n",
    "import seaborn as sb\n",
    "import numpy as np\n",
    "import matplotlib.pyplot as plt"
   ]
  },
  {
   "cell_type": "code",
   "execution_count": 2,
   "id": "41ee22a4",
   "metadata": {},
   "outputs": [],
   "source": [
    "import missingno as msno"
   ]
  },
  {
   "cell_type": "code",
   "execution_count": 3,
   "id": "9a4c92d0-6410-44c1-b754-0c80e0dd4a9e",
   "metadata": {},
   "outputs": [
    {
     "data": {
      "text/html": [
       "<div>\n",
       "<style scoped>\n",
       "    .dataframe tbody tr th:only-of-type {\n",
       "        vertical-align: middle;\n",
       "    }\n",
       "\n",
       "    .dataframe tbody tr th {\n",
       "        vertical-align: top;\n",
       "    }\n",
       "\n",
       "    .dataframe thead th {\n",
       "        text-align: right;\n",
       "    }\n",
       "</style>\n",
       "<table border=\"1\" class=\"dataframe\">\n",
       "  <thead>\n",
       "    <tr style=\"text-align: right;\">\n",
       "      <th></th>\n",
       "      <th>ID</th>\n",
       "      <th>Delivery_person_ID</th>\n",
       "      <th>Delivery_person_Age</th>\n",
       "      <th>Delivery_person_Ratings</th>\n",
       "      <th>Restaurant_latitude</th>\n",
       "      <th>Restaurant_longitude</th>\n",
       "      <th>Delivery_location_latitude</th>\n",
       "      <th>Delivery_location_longitude</th>\n",
       "      <th>Order_Date</th>\n",
       "      <th>Time_Orderd</th>\n",
       "      <th>Time_Order_picked</th>\n",
       "      <th>Weatherconditions</th>\n",
       "      <th>Road_traffic_density</th>\n",
       "      <th>Vehicle_condition</th>\n",
       "      <th>Type_of_order</th>\n",
       "      <th>Type_of_vehicle</th>\n",
       "      <th>multiple_deliveries</th>\n",
       "      <th>Festival</th>\n",
       "      <th>City</th>\n",
       "      <th>Time_taken(min)</th>\n",
       "    </tr>\n",
       "  </thead>\n",
       "  <tbody>\n",
       "    <tr>\n",
       "      <th>0</th>\n",
       "      <td>0x4607</td>\n",
       "      <td>INDORES13DEL02</td>\n",
       "      <td>37</td>\n",
       "      <td>4.9</td>\n",
       "      <td>22.745049</td>\n",
       "      <td>75.892471</td>\n",
       "      <td>22.765049</td>\n",
       "      <td>75.912471</td>\n",
       "      <td>19-03-2022</td>\n",
       "      <td>11:30:00</td>\n",
       "      <td>11:45:00</td>\n",
       "      <td>conditions Sunny</td>\n",
       "      <td>High</td>\n",
       "      <td>2</td>\n",
       "      <td>Snack</td>\n",
       "      <td>motorcycle</td>\n",
       "      <td>0</td>\n",
       "      <td>No</td>\n",
       "      <td>Urban</td>\n",
       "      <td>(min) 24</td>\n",
       "    </tr>\n",
       "    <tr>\n",
       "      <th>1</th>\n",
       "      <td>0xb379</td>\n",
       "      <td>BANGRES18DEL02</td>\n",
       "      <td>34</td>\n",
       "      <td>4.5</td>\n",
       "      <td>12.913041</td>\n",
       "      <td>77.683237</td>\n",
       "      <td>13.043041</td>\n",
       "      <td>77.813237</td>\n",
       "      <td>25-03-2022</td>\n",
       "      <td>19:45:00</td>\n",
       "      <td>19:50:00</td>\n",
       "      <td>conditions Stormy</td>\n",
       "      <td>Jam</td>\n",
       "      <td>2</td>\n",
       "      <td>Snack</td>\n",
       "      <td>scooter</td>\n",
       "      <td>1</td>\n",
       "      <td>No</td>\n",
       "      <td>Metropolitian</td>\n",
       "      <td>(min) 33</td>\n",
       "    </tr>\n",
       "    <tr>\n",
       "      <th>2</th>\n",
       "      <td>0x5d6d</td>\n",
       "      <td>BANGRES19DEL01</td>\n",
       "      <td>23</td>\n",
       "      <td>4.4</td>\n",
       "      <td>12.914264</td>\n",
       "      <td>77.678400</td>\n",
       "      <td>12.924264</td>\n",
       "      <td>77.688400</td>\n",
       "      <td>19-03-2022</td>\n",
       "      <td>08:30:00</td>\n",
       "      <td>08:45:00</td>\n",
       "      <td>conditions Sandstorms</td>\n",
       "      <td>Low</td>\n",
       "      <td>0</td>\n",
       "      <td>Drinks</td>\n",
       "      <td>motorcycle</td>\n",
       "      <td>1</td>\n",
       "      <td>No</td>\n",
       "      <td>Urban</td>\n",
       "      <td>(min) 26</td>\n",
       "    </tr>\n",
       "    <tr>\n",
       "      <th>3</th>\n",
       "      <td>0x7a6a</td>\n",
       "      <td>COIMBRES13DEL02</td>\n",
       "      <td>38</td>\n",
       "      <td>4.7</td>\n",
       "      <td>11.003669</td>\n",
       "      <td>76.976494</td>\n",
       "      <td>11.053669</td>\n",
       "      <td>77.026494</td>\n",
       "      <td>05-04-2022</td>\n",
       "      <td>18:00:00</td>\n",
       "      <td>18:10:00</td>\n",
       "      <td>conditions Sunny</td>\n",
       "      <td>Medium</td>\n",
       "      <td>0</td>\n",
       "      <td>Buffet</td>\n",
       "      <td>motorcycle</td>\n",
       "      <td>1</td>\n",
       "      <td>No</td>\n",
       "      <td>Metropolitian</td>\n",
       "      <td>(min) 21</td>\n",
       "    </tr>\n",
       "    <tr>\n",
       "      <th>4</th>\n",
       "      <td>0x70a2</td>\n",
       "      <td>CHENRES12DEL01</td>\n",
       "      <td>32</td>\n",
       "      <td>4.6</td>\n",
       "      <td>12.972793</td>\n",
       "      <td>80.249982</td>\n",
       "      <td>13.012793</td>\n",
       "      <td>80.289982</td>\n",
       "      <td>26-03-2022</td>\n",
       "      <td>13:30:00</td>\n",
       "      <td>13:45:00</td>\n",
       "      <td>conditions Cloudy</td>\n",
       "      <td>High</td>\n",
       "      <td>1</td>\n",
       "      <td>Snack</td>\n",
       "      <td>scooter</td>\n",
       "      <td>1</td>\n",
       "      <td>No</td>\n",
       "      <td>Metropolitian</td>\n",
       "      <td>(min) 30</td>\n",
       "    </tr>\n",
       "  </tbody>\n",
       "</table>\n",
       "</div>"
      ],
      "text/plain": [
       "        ID Delivery_person_ID Delivery_person_Age Delivery_person_Ratings  \\\n",
       "0  0x4607     INDORES13DEL02                   37                     4.9   \n",
       "1  0xb379     BANGRES18DEL02                   34                     4.5   \n",
       "2  0x5d6d     BANGRES19DEL01                   23                     4.4   \n",
       "3  0x7a6a    COIMBRES13DEL02                   38                     4.7   \n",
       "4  0x70a2     CHENRES12DEL01                   32                     4.6   \n",
       "\n",
       "   Restaurant_latitude  Restaurant_longitude  Delivery_location_latitude  \\\n",
       "0            22.745049             75.892471                   22.765049   \n",
       "1            12.913041             77.683237                   13.043041   \n",
       "2            12.914264             77.678400                   12.924264   \n",
       "3            11.003669             76.976494                   11.053669   \n",
       "4            12.972793             80.249982                   13.012793   \n",
       "\n",
       "   Delivery_location_longitude  Order_Date Time_Orderd Time_Order_picked  \\\n",
       "0                    75.912471  19-03-2022    11:30:00          11:45:00   \n",
       "1                    77.813237  25-03-2022    19:45:00          19:50:00   \n",
       "2                    77.688400  19-03-2022    08:30:00          08:45:00   \n",
       "3                    77.026494  05-04-2022    18:00:00          18:10:00   \n",
       "4                    80.289982  26-03-2022    13:30:00          13:45:00   \n",
       "\n",
       "       Weatherconditions Road_traffic_density  Vehicle_condition  \\\n",
       "0       conditions Sunny                High                   2   \n",
       "1      conditions Stormy                 Jam                   2   \n",
       "2  conditions Sandstorms                 Low                   0   \n",
       "3       conditions Sunny              Medium                   0   \n",
       "4      conditions Cloudy                High                   1   \n",
       "\n",
       "  Type_of_order Type_of_vehicle multiple_deliveries Festival            City  \\\n",
       "0        Snack      motorcycle                    0      No           Urban    \n",
       "1        Snack         scooter                    1      No   Metropolitian    \n",
       "2       Drinks      motorcycle                    1      No           Urban    \n",
       "3       Buffet      motorcycle                    1      No   Metropolitian    \n",
       "4        Snack         scooter                    1      No   Metropolitian    \n",
       "\n",
       "  Time_taken(min)  \n",
       "0        (min) 24  \n",
       "1        (min) 33  \n",
       "2        (min) 26  \n",
       "3        (min) 21  \n",
       "4        (min) 30  "
      ]
     },
     "execution_count": 3,
     "metadata": {},
     "output_type": "execute_result"
    }
   ],
   "source": [
    "data = pd.read_csv(\"train.csv\")\n",
    "data.head()"
   ]
  },
  {
   "cell_type": "markdown",
   "id": "27e46ca6-41dc-486b-9c8c-2ab4d0f64602",
   "metadata": {},
   "source": [
    "## Data Cleaning"
   ]
  },
  {
   "cell_type": "code",
   "execution_count": 4,
   "id": "72ee4667-7c46-40c7-82c2-4d30518450e9",
   "metadata": {},
   "outputs": [
    {
     "data": {
      "text/plain": [
       "ID                              object\n",
       "Delivery_person_ID              object\n",
       "Delivery_person_Age             object\n",
       "Delivery_person_Ratings         object\n",
       "Restaurant_latitude            float64\n",
       "Restaurant_longitude           float64\n",
       "Delivery_location_latitude     float64\n",
       "Delivery_location_longitude    float64\n",
       "Order_Date                      object\n",
       "Time_Orderd                     object\n",
       "Time_Order_picked               object\n",
       "Weatherconditions               object\n",
       "Road_traffic_density            object\n",
       "Vehicle_condition                int64\n",
       "Type_of_order                   object\n",
       "Type_of_vehicle                 object\n",
       "multiple_deliveries             object\n",
       "Festival                        object\n",
       "City                            object\n",
       "Time_taken(min)                 object\n",
       "dtype: object"
      ]
     },
     "execution_count": 4,
     "metadata": {},
     "output_type": "execute_result"
    }
   ],
   "source": [
    "# some type conversions are necessary\n",
    "data.dtypes"
   ]
  },
  {
   "cell_type": "markdown",
   "id": "b24a897e",
   "metadata": {},
   "source": [
    "### Dropping irrelevant Columns"
   ]
  },
  {
   "cell_type": "code",
   "execution_count": 5,
   "id": "eaa760ab",
   "metadata": {},
   "outputs": [],
   "source": [
    "data = data.drop(['ID'],axis=1)"
   ]
  },
  {
   "cell_type": "code",
   "execution_count": 6,
   "id": "a75b032d",
   "metadata": {},
   "outputs": [],
   "source": [
    "data = data.drop(['Delivery_person_ID'],axis=1)"
   ]
  },
  {
   "cell_type": "markdown",
   "id": "f02db1c5",
   "metadata": {},
   "source": [
    "### Replacing string NaN to `np.nan`\n",
    "The NaN values in the data set are recgonised as strings. So a conversion is needed for panda to detect them as NaN."
   ]
  },
  {
   "cell_type": "code",
   "execution_count": 7,
   "id": "b287f19e",
   "metadata": {},
   "outputs": [
    {
     "name": "stdout",
     "output_type": "stream",
     "text": [
      "<class 'pandas.core.frame.DataFrame'>\n",
      "RangeIndex: 45593 entries, 0 to 45592\n",
      "Data columns (total 18 columns):\n",
      " #   Column                       Non-Null Count  Dtype  \n",
      "---  ------                       --------------  -----  \n",
      " 0   Delivery_person_Age          43739 non-null  object \n",
      " 1   Delivery_person_Ratings      43685 non-null  object \n",
      " 2   Restaurant_latitude          45593 non-null  float64\n",
      " 3   Restaurant_longitude         45593 non-null  float64\n",
      " 4   Delivery_location_latitude   45593 non-null  float64\n",
      " 5   Delivery_location_longitude  45593 non-null  float64\n",
      " 6   Order_Date                   45593 non-null  object \n",
      " 7   Time_Orderd                  43862 non-null  object \n",
      " 8   Time_Order_picked            45593 non-null  object \n",
      " 9   Weatherconditions            45593 non-null  object \n",
      " 10  Road_traffic_density         44992 non-null  object \n",
      " 11  Vehicle_condition            45593 non-null  int64  \n",
      " 12  Type_of_order                45593 non-null  object \n",
      " 13  Type_of_vehicle              45593 non-null  object \n",
      " 14  multiple_deliveries          44600 non-null  object \n",
      " 15  Festival                     45365 non-null  object \n",
      " 16  City                         44393 non-null  object \n",
      " 17  Time_taken(min)              45593 non-null  object \n",
      "dtypes: float64(4), int64(1), object(13)\n",
      "memory usage: 6.3+ MB\n"
     ]
    }
   ],
   "source": [
    "data.replace('NaN ', np.nan, inplace=True)\n",
    "data.info()"
   ]
  },
  {
   "cell_type": "markdown",
   "id": "431e962d",
   "metadata": {},
   "source": [
    "### Replacing missing coordinate value with `np.nan`"
   ]
  },
  {
   "cell_type": "code",
   "execution_count": 8,
   "id": "a876a301",
   "metadata": {},
   "outputs": [],
   "source": [
    "data['Restaurant_latitude'].replace(0, np.nan, inplace=True)\n",
    "data['Restaurant_longitude'].replace(0, np.nan, inplace=True)\n"
   ]
  },
  {
   "cell_type": "markdown",
   "id": "a1b9cd47",
   "metadata": {},
   "source": [
    "### Using `msno` to visualise missing data\n",
    "We use `msno` and found out that there are many missing data in the same row. We believe that those rows are corrupted and will drop them subsequently."
   ]
  },
  {
   "cell_type": "code",
   "execution_count": 9,
   "id": "2b5c8ae4",
   "metadata": {},
   "outputs": [
    {
     "data": {
      "text/plain": [
       "<Axes: >"
      ]
     },
     "execution_count": 9,
     "metadata": {},
     "output_type": "execute_result"
    },
    {
     "data": {
      "image/png": "[encoded data removed]",
      "text/plain": [
       "<Figure size 2500x1000 with 2 Axes>"
      ]
     },
     "metadata": {},
     "output_type": "display_data"
    }
   ],
   "source": [
    "msno.matrix(data)"
   ]
  },
  {
   "cell_type": "markdown",
   "id": "7dfe92de",
   "metadata": {},
   "source": [
    "### Converting `Time_taken` into numeric type"
   ]
  },
  {
   "cell_type": "code",
   "execution_count": 10,
   "id": "ae25af33-84b9-433c-9fec-fab1b0313097",
   "metadata": {},
   "outputs": [
    {
     "data": {
      "text/plain": [
       "0        24\n",
       "1        33\n",
       "2        26\n",
       "3        21\n",
       "4        30\n",
       "         ..\n",
       "45588    32\n",
       "45589    36\n",
       "45590    16\n",
       "45591    26\n",
       "45592    36\n",
       "Name: Time_taken(min), Length: 45593, dtype: int64"
      ]
     },
     "execution_count": 10,
     "metadata": {},
     "output_type": "execute_result"
    }
   ],
   "source": [
    "# turn Time_taken into numeric\n",
    "data[\"Time_taken(min)\"] = data[\"Time_taken(min)\"].str.extract('(\\d+)')\n",
    "data[\"Time_taken(min)\"] = pd.to_numeric(data[\"Time_taken(min)\"])\n",
    "data[\"Time_taken(min)\"].astype('int64')"
   ]
  },
  {
   "cell_type": "markdown",
   "id": "49e94b26",
   "metadata": {},
   "source": [
    "### Converting `Delivery_person_Ratings` into numeric type"
   ]
  },
  {
   "cell_type": "code",
   "execution_count": 11,
   "id": "140ff4c6-0125-4c18-b594-3d4c96d509a7",
   "metadata": {
    "scrolled": true
   },
   "outputs": [
    {
     "data": {
      "text/html": [
       "<div>\n",
       "<style scoped>\n",
       "    .dataframe tbody tr th:only-of-type {\n",
       "        vertical-align: middle;\n",
       "    }\n",
       "\n",
       "    .dataframe tbody tr th {\n",
       "        vertical-align: top;\n",
       "    }\n",
       "\n",
       "    .dataframe thead th {\n",
       "        text-align: right;\n",
       "    }\n",
       "</style>\n",
       "<table border=\"1\" class=\"dataframe\">\n",
       "  <thead>\n",
       "    <tr style=\"text-align: right;\">\n",
       "      <th></th>\n",
       "      <th>Delivery_person_Age</th>\n",
       "      <th>Delivery_person_Ratings</th>\n",
       "      <th>Restaurant_latitude</th>\n",
       "      <th>Restaurant_longitude</th>\n",
       "      <th>Delivery_location_latitude</th>\n",
       "      <th>Delivery_location_longitude</th>\n",
       "      <th>Order_Date</th>\n",
       "      <th>Time_Orderd</th>\n",
       "      <th>Time_Order_picked</th>\n",
       "      <th>Weatherconditions</th>\n",
       "      <th>Road_traffic_density</th>\n",
       "      <th>Vehicle_condition</th>\n",
       "      <th>Type_of_order</th>\n",
       "      <th>Type_of_vehicle</th>\n",
       "      <th>multiple_deliveries</th>\n",
       "      <th>Festival</th>\n",
       "      <th>City</th>\n",
       "      <th>Time_taken(min)</th>\n",
       "    </tr>\n",
       "  </thead>\n",
       "  <tbody>\n",
       "    <tr>\n",
       "      <th>0</th>\n",
       "      <td>37</td>\n",
       "      <td>4.9</td>\n",
       "      <td>22.745049</td>\n",
       "      <td>75.892471</td>\n",
       "      <td>22.765049</td>\n",
       "      <td>75.912471</td>\n",
       "      <td>19-03-2022</td>\n",
       "      <td>11:30:00</td>\n",
       "      <td>11:45:00</td>\n",
       "      <td>conditions Sunny</td>\n",
       "      <td>High</td>\n",
       "      <td>2</td>\n",
       "      <td>Snack</td>\n",
       "      <td>motorcycle</td>\n",
       "      <td>0</td>\n",
       "      <td>No</td>\n",
       "      <td>Urban</td>\n",
       "      <td>24</td>\n",
       "    </tr>\n",
       "    <tr>\n",
       "      <th>1</th>\n",
       "      <td>34</td>\n",
       "      <td>4.5</td>\n",
       "      <td>12.913041</td>\n",
       "      <td>77.683237</td>\n",
       "      <td>13.043041</td>\n",
       "      <td>77.813237</td>\n",
       "      <td>25-03-2022</td>\n",
       "      <td>19:45:00</td>\n",
       "      <td>19:50:00</td>\n",
       "      <td>conditions Stormy</td>\n",
       "      <td>Jam</td>\n",
       "      <td>2</td>\n",
       "      <td>Snack</td>\n",
       "      <td>scooter</td>\n",
       "      <td>1</td>\n",
       "      <td>No</td>\n",
       "      <td>Metropolitian</td>\n",
       "      <td>33</td>\n",
       "    </tr>\n",
       "    <tr>\n",
       "      <th>2</th>\n",
       "      <td>23</td>\n",
       "      <td>4.4</td>\n",
       "      <td>12.914264</td>\n",
       "      <td>77.678400</td>\n",
       "      <td>12.924264</td>\n",
       "      <td>77.688400</td>\n",
       "      <td>19-03-2022</td>\n",
       "      <td>08:30:00</td>\n",
       "      <td>08:45:00</td>\n",
       "      <td>conditions Sandstorms</td>\n",
       "      <td>Low</td>\n",
       "      <td>0</td>\n",
       "      <td>Drinks</td>\n",
       "      <td>motorcycle</td>\n",
       "      <td>1</td>\n",
       "      <td>No</td>\n",
       "      <td>Urban</td>\n",
       "      <td>26</td>\n",
       "    </tr>\n",
       "    <tr>\n",
       "      <th>3</th>\n",
       "      <td>38</td>\n",
       "      <td>4.7</td>\n",
       "      <td>11.003669</td>\n",
       "      <td>76.976494</td>\n",
       "      <td>11.053669</td>\n",
       "      <td>77.026494</td>\n",
       "      <td>05-04-2022</td>\n",
       "      <td>18:00:00</td>\n",
       "      <td>18:10:00</td>\n",
       "      <td>conditions Sunny</td>\n",
       "      <td>Medium</td>\n",
       "      <td>0</td>\n",
       "      <td>Buffet</td>\n",
       "      <td>motorcycle</td>\n",
       "      <td>1</td>\n",
       "      <td>No</td>\n",
       "      <td>Metropolitian</td>\n",
       "      <td>21</td>\n",
       "    </tr>\n",
       "    <tr>\n",
       "      <th>4</th>\n",
       "      <td>32</td>\n",
       "      <td>4.6</td>\n",
       "      <td>12.972793</td>\n",
       "      <td>80.249982</td>\n",
       "      <td>13.012793</td>\n",
       "      <td>80.289982</td>\n",
       "      <td>26-03-2022</td>\n",
       "      <td>13:30:00</td>\n",
       "      <td>13:45:00</td>\n",
       "      <td>conditions Cloudy</td>\n",
       "      <td>High</td>\n",
       "      <td>1</td>\n",
       "      <td>Snack</td>\n",
       "      <td>scooter</td>\n",
       "      <td>1</td>\n",
       "      <td>No</td>\n",
       "      <td>Metropolitian</td>\n",
       "      <td>30</td>\n",
       "    </tr>\n",
       "  </tbody>\n",
       "</table>\n",
       "</div>"
      ],
      "text/plain": [
       "  Delivery_person_Age  Delivery_person_Ratings  Restaurant_latitude  \\\n",
       "0                  37                      4.9            22.745049   \n",
       "1                  34                      4.5            12.913041   \n",
       "2                  23                      4.4            12.914264   \n",
       "3                  38                      4.7            11.003669   \n",
       "4                  32                      4.6            12.972793   \n",
       "\n",
       "   Restaurant_longitude  Delivery_location_latitude  \\\n",
       "0             75.892471                   22.765049   \n",
       "1             77.683237                   13.043041   \n",
       "2             77.678400                   12.924264   \n",
       "3             76.976494                   11.053669   \n",
       "4             80.249982                   13.012793   \n",
       "\n",
       "   Delivery_location_longitude  Order_Date Time_Orderd Time_Order_picked  \\\n",
       "0                    75.912471  19-03-2022    11:30:00          11:45:00   \n",
       "1                    77.813237  25-03-2022    19:45:00          19:50:00   \n",
       "2                    77.688400  19-03-2022    08:30:00          08:45:00   \n",
       "3                    77.026494  05-04-2022    18:00:00          18:10:00   \n",
       "4                    80.289982  26-03-2022    13:30:00          13:45:00   \n",
       "\n",
       "       Weatherconditions Road_traffic_density  Vehicle_condition  \\\n",
       "0       conditions Sunny                High                   2   \n",
       "1      conditions Stormy                 Jam                   2   \n",
       "2  conditions Sandstorms                 Low                   0   \n",
       "3       conditions Sunny              Medium                   0   \n",
       "4      conditions Cloudy                High                   1   \n",
       "\n",
       "  Type_of_order Type_of_vehicle multiple_deliveries Festival            City  \\\n",
       "0        Snack      motorcycle                    0      No           Urban    \n",
       "1        Snack         scooter                    1      No   Metropolitian    \n",
       "2       Drinks      motorcycle                    1      No           Urban    \n",
       "3       Buffet      motorcycle                    1      No   Metropolitian    \n",
       "4        Snack         scooter                    1      No   Metropolitian    \n",
       "\n",
       "   Time_taken(min)  \n",
       "0               24  \n",
       "1               33  \n",
       "2               26  \n",
       "3               21  \n",
       "4               30  "
      ]
     },
     "execution_count": 11,
     "metadata": {},
     "output_type": "execute_result"
    }
   ],
   "source": [
    "data = data.loc[data['Delivery_person_Ratings'] != \"NaN \"]\n",
    "data[\"Delivery_person_Ratings\"] = pd.to_numeric(data[\"Delivery_person_Ratings\"])\n",
    "data[\"Delivery_person_Ratings\"].astype('float64')\n",
    "data.head()"
   ]
  },
  {
   "cell_type": "markdown",
   "id": "2707e7ee",
   "metadata": {},
   "source": [
    "### Converting `multiple_deliveries` into numeric type"
   ]
  },
  {
   "cell_type": "code",
   "execution_count": 12,
   "id": "2fe051e6",
   "metadata": {},
   "outputs": [
    {
     "data": {
      "text/plain": [
       "0        0\n",
       "1        1\n",
       "2        1\n",
       "3        1\n",
       "4        1\n",
       "        ..\n",
       "45588    0\n",
       "45589    1\n",
       "45590    0\n",
       "45591    1\n",
       "45592    1\n",
       "Name: multiple_deliveries, Length: 45593, dtype: int32"
      ]
     },
     "execution_count": 12,
     "metadata": {},
     "output_type": "execute_result"
    }
   ],
   "source": [
    "data['multiple_deliveries'].fillna(-1, inplace=True)\n",
    "data[\"multiple_deliveries\"] = pd.to_numeric(data[\"multiple_deliveries\"])\n",
    "data[\"multiple_deliveries\"].astype(int)"
   ]
  },
  {
   "cell_type": "markdown",
   "id": "9dfdd7d7",
   "metadata": {},
   "source": [
    "### Removing missing `Restaurant_latitude` and `Restaurant_longitude`"
   ]
  },
  {
   "cell_type": "code",
   "execution_count": 13,
   "id": "1165073b",
   "metadata": {},
   "outputs": [],
   "source": [
    "data = data[data['Restaurant_latitude'].notna()]\n",
    "data = data[data['Restaurant_longitude'].notna()]"
   ]
  },
  {
   "cell_type": "markdown",
   "id": "23b503fa",
   "metadata": {},
   "source": [
    "### Removing data entries with no `Time_Orderd`"
   ]
  },
  {
   "cell_type": "code",
   "execution_count": 14,
   "id": "6dcb4f3d",
   "metadata": {},
   "outputs": [],
   "source": [
    "data = data[data['Time_Orderd'].notna()]\n"
   ]
  },
  {
   "cell_type": "code",
   "execution_count": 15,
   "id": "54908801",
   "metadata": {},
   "outputs": [
    {
     "data": {
      "text/plain": [
       "(40353, 18)"
      ]
     },
     "execution_count": 15,
     "metadata": {},
     "output_type": "execute_result"
    }
   ],
   "source": [
    "data.shape      # just to be sure we did not drop the entire dataframe"
   ]
  },
  {
   "cell_type": "code",
   "execution_count": 16,
   "id": "282c208f",
   "metadata": {},
   "outputs": [
    {
     "data": {
      "text/plain": [
       "Delivery_person_Age             200\n",
       "Delivery_person_Ratings         244\n",
       "Restaurant_latitude               0\n",
       "Restaurant_longitude              0\n",
       "Delivery_location_latitude        0\n",
       "Delivery_location_longitude       0\n",
       "Order_Date                        0\n",
       "Time_Orderd                       0\n",
       "Time_Order_picked                 0\n",
       "Weatherconditions                 0\n",
       "Road_traffic_density              0\n",
       "Vehicle_condition                 0\n",
       "Type_of_order                     0\n",
       "Type_of_vehicle                   0\n",
       "multiple_deliveries               0\n",
       "Festival                        206\n",
       "City                           1059\n",
       "Time_taken(min)                   0\n",
       "dtype: int64"
      ]
     },
     "execution_count": 16,
     "metadata": {},
     "output_type": "execute_result"
    }
   ],
   "source": [
    "data.isna().sum()"
   ]
  },
  {
   "cell_type": "markdown",
   "id": "b7c37941",
   "metadata": {},
   "source": [
    "As seen from the output above there are still a handful of missing values on four of all columns. We will continue to clean those."
   ]
  },
  {
   "cell_type": "code",
   "execution_count": 17,
   "id": "03e8c44d",
   "metadata": {},
   "outputs": [
    {
     "data": {
      "text/plain": [
       "array(['No ', 'Yes ', nan], dtype=object)"
      ]
     },
     "execution_count": 17,
     "metadata": {},
     "output_type": "execute_result"
    }
   ],
   "source": [
    "data['Festival'].unique()"
   ]
  },
  {
   "cell_type": "markdown",
   "id": "0f4561e2",
   "metadata": {},
   "source": [
    "### Impute Mode into Festival"
   ]
  },
  {
   "cell_type": "code",
   "execution_count": 18,
   "id": "d1392c66",
   "metadata": {},
   "outputs": [
    {
     "data": {
      "text/plain": [
       "count     40147\n",
       "unique        2\n",
       "top         No \n",
       "freq      39360\n",
       "Name: Festival, dtype: object"
      ]
     },
     "execution_count": 18,
     "metadata": {},
     "output_type": "execute_result"
    }
   ],
   "source": [
    "data['Festival'].describe()"
   ]
  },
  {
   "cell_type": "code",
   "execution_count": 19,
   "id": "b782b475",
   "metadata": {},
   "outputs": [
    {
     "data": {
      "text/plain": [
       "array(['No ', 'Yes '], dtype=object)"
      ]
     },
     "execution_count": 19,
     "metadata": {},
     "output_type": "execute_result"
    }
   ],
   "source": [
    "data['Festival'].fillna('No ', inplace=True)\n",
    "data['Festival'].unique()"
   ]
  },
  {
   "cell_type": "markdown",
   "id": "e4368b05",
   "metadata": {},
   "source": [
    "### Impute Mode into City"
   ]
  },
  {
   "cell_type": "code",
   "execution_count": 20,
   "id": "797a490a",
   "metadata": {},
   "outputs": [
    {
     "data": {
      "text/plain": [
       "array(['Urban ', 'Metropolitian ', nan, 'Semi-Urban '], dtype=object)"
      ]
     },
     "execution_count": 20,
     "metadata": {},
     "output_type": "execute_result"
    }
   ],
   "source": [
    "data['City'].unique()"
   ]
  },
  {
   "cell_type": "code",
   "execution_count": 21,
   "id": "dddfc991",
   "metadata": {},
   "outputs": [
    {
     "data": {
      "text/plain": [
       "count              39294\n",
       "unique                 3\n",
       "top       Metropolitian \n",
       "freq               30220\n",
       "Name: City, dtype: object"
      ]
     },
     "execution_count": 21,
     "metadata": {},
     "output_type": "execute_result"
    }
   ],
   "source": [
    "data['City'].describe()"
   ]
  },
  {
   "cell_type": "code",
   "execution_count": 22,
   "id": "4bc9a2c3",
   "metadata": {},
   "outputs": [
    {
     "data": {
      "text/plain": [
       "array(['Urban ', 'Metropolitian ', 'Semi-Urban '], dtype=object)"
      ]
     },
     "execution_count": 22,
     "metadata": {},
     "output_type": "execute_result"
    }
   ],
   "source": [
    "data['City'].fillna('Metropolitian ', inplace=True)\n",
    "data['City'].unique()"
   ]
  },
  {
   "cell_type": "code",
   "execution_count": 23,
   "id": "55921922",
   "metadata": {},
   "outputs": [
    {
     "data": {
      "text/plain": [
       "(40353, 18)"
      ]
     },
     "execution_count": 23,
     "metadata": {},
     "output_type": "execute_result"
    }
   ],
   "source": [
    "data.shape"
   ]
  },
  {
   "cell_type": "code",
   "execution_count": 24,
   "id": "4c662170",
   "metadata": {},
   "outputs": [
    {
     "data": {
      "text/plain": [
       "Delivery_person_Age            200\n",
       "Delivery_person_Ratings        244\n",
       "Restaurant_latitude              0\n",
       "Restaurant_longitude             0\n",
       "Delivery_location_latitude       0\n",
       "Delivery_location_longitude      0\n",
       "Order_Date                       0\n",
       "Time_Orderd                      0\n",
       "Time_Order_picked                0\n",
       "Weatherconditions                0\n",
       "Road_traffic_density             0\n",
       "Vehicle_condition                0\n",
       "Type_of_order                    0\n",
       "Type_of_vehicle                  0\n",
       "multiple_deliveries              0\n",
       "Festival                         0\n",
       "City                             0\n",
       "Time_taken(min)                  0\n",
       "dtype: int64"
      ]
     },
     "execution_count": 24,
     "metadata": {},
     "output_type": "execute_result"
    }
   ],
   "source": [
    "data.isnull().sum()"
   ]
  },
  {
   "cell_type": "code",
   "execution_count": 25,
   "id": "ec51b0c0",
   "metadata": {},
   "outputs": [
    {
     "data": {
      "text/plain": [
       "count    40109.000000\n",
       "mean         4.633987\n",
       "std          0.314886\n",
       "min          2.500000\n",
       "25%          4.500000\n",
       "50%          4.700000\n",
       "75%          4.900000\n",
       "max          5.000000\n",
       "Name: Delivery_person_Ratings, dtype: float64"
      ]
     },
     "execution_count": 25,
     "metadata": {},
     "output_type": "execute_result"
    }
   ],
   "source": [
    "data['Delivery_person_Ratings'].describe()"
   ]
  },
  {
   "cell_type": "markdown",
   "id": "33901ae5",
   "metadata": {},
   "source": [
    "### Impute `Delivery_person_Ratings` with its mean"
   ]
  },
  {
   "cell_type": "code",
   "execution_count": 26,
   "id": "93378661",
   "metadata": {},
   "outputs": [],
   "source": [
    "data['Delivery_person_Ratings'].fillna(data['Delivery_person_Ratings'].mean(), inplace=True)"
   ]
  },
  {
   "cell_type": "code",
   "execution_count": 27,
   "id": "7075c07e",
   "metadata": {},
   "outputs": [
    {
     "data": {
      "text/plain": [
       "Delivery_person_Age            200\n",
       "Delivery_person_Ratings          0\n",
       "Restaurant_latitude              0\n",
       "Restaurant_longitude             0\n",
       "Delivery_location_latitude       0\n",
       "Delivery_location_longitude      0\n",
       "Order_Date                       0\n",
       "Time_Orderd                      0\n",
       "Time_Order_picked                0\n",
       "Weatherconditions                0\n",
       "Road_traffic_density             0\n",
       "Vehicle_condition                0\n",
       "Type_of_order                    0\n",
       "Type_of_vehicle                  0\n",
       "multiple_deliveries              0\n",
       "Festival                         0\n",
       "City                             0\n",
       "Time_taken(min)                  0\n",
       "dtype: int64"
      ]
     },
     "execution_count": 27,
     "metadata": {},
     "output_type": "execute_result"
    }
   ],
   "source": [
    "data.isnull().sum()"
   ]
  },
  {
   "cell_type": "markdown",
   "id": "2956c306",
   "metadata": {},
   "source": [
    "### Impute `Delivery_person_Age` with its median"
   ]
  },
  {
   "cell_type": "code",
   "execution_count": 28,
   "id": "e6d905c8",
   "metadata": {},
   "outputs": [
    {
     "data": {
      "text/plain": [
       "count     40153\n",
       "unique       20\n",
       "top          35\n",
       "freq       2099\n",
       "Name: Delivery_person_Age, dtype: object"
      ]
     },
     "execution_count": 28,
     "metadata": {},
     "output_type": "execute_result"
    }
   ],
   "source": [
    "data['Delivery_person_Age'].describe()"
   ]
  },
  {
   "cell_type": "code",
   "execution_count": 29,
   "id": "7d898596",
   "metadata": {},
   "outputs": [
    {
     "data": {
      "text/plain": [
       "30.0"
      ]
     },
     "execution_count": 29,
     "metadata": {},
     "output_type": "execute_result"
    }
   ],
   "source": [
    "data['Delivery_person_Age'] = pd.to_numeric(data[\"Delivery_person_Age\"])\n",
    "data['Delivery_person_Age'].median()"
   ]
  },
  {
   "cell_type": "code",
   "execution_count": 30,
   "id": "46b8fd30",
   "metadata": {},
   "outputs": [],
   "source": [
    "data['Delivery_person_Age'].fillna(data['Delivery_person_Age'].median(),inplace=True)"
   ]
  },
  {
   "cell_type": "markdown",
   "id": "65bf82aa",
   "metadata": {},
   "source": [
    "### Rename Columns to Camel Case"
   ]
  },
  {
   "cell_type": "markdown",
   "id": "597dbbe4",
   "metadata": {},
   "source": [
    "Because their naming convention is ... quite unpleasant."
   ]
  },
  {
   "cell_type": "code",
   "execution_count": 31,
   "id": "7c9d551b",
   "metadata": {},
   "outputs": [],
   "source": [
    "data = data.rename(columns={'Delivery_person_Age' : 'Age',\n",
    "                            'Delivery_person_Ratings': 'Ratings',\n",
    "                            'Restaurant_latitude': 'RestaurantLat',\n",
    "                            'Restaurant_longitude': 'RestaurantLon',\n",
    "                            'Delivery_location_latitude': 'DeliveryLocationLat',\n",
    "                            'Delivery_location_longitude': 'DeliveryLocationLon',\n",
    "                            'Time_Orderd': 'TimeOrdered',\n",
    "                            'Time_Order_picked': 'TimeOrderPickedUp',\n",
    "                            'Weatherconditions': 'WeatherConditions',\n",
    "                            'Road_traffic_density': 'RoadTrafficDensity',\n",
    "                            'Vehicle_condition': 'VehicleCondition',\n",
    "                            'Type_of_order': 'TypeOfOrder',\n",
    "                            'Type_of_vehicle': 'TypeOfVehicle',\n",
    "                            'multiple_deliveries': 'MultipleDeliveries',\n",
    "                            'Time_taken(min)': 'TimeTaken' ,\n",
    "                            })"
   ]
  },
  {
   "cell_type": "code",
   "execution_count": 32,
   "id": "146fef45",
   "metadata": {},
   "outputs": [
    {
     "name": "stdout",
     "output_type": "stream",
     "text": [
      "<class 'pandas.core.frame.DataFrame'>\n",
      "Index: 40353 entries, 0 to 45592\n",
      "Data columns (total 18 columns):\n",
      " #   Column               Non-Null Count  Dtype  \n",
      "---  ------               --------------  -----  \n",
      " 0   Age                  40353 non-null  float64\n",
      " 1   Ratings              40353 non-null  float64\n",
      " 2   RestaurantLat        40353 non-null  float64\n",
      " 3   RestaurantLon        40353 non-null  float64\n",
      " 4   DeliveryLocationLat  40353 non-null  float64\n",
      " 5   DeliveryLocationLon  40353 non-null  float64\n",
      " 6   Order_Date           40353 non-null  object \n",
      " 7   TimeOrdered          40353 non-null  object \n",
      " 8   TimeOrderPickedUp    40353 non-null  object \n",
      " 9   WeatherConditions    40353 non-null  object \n",
      " 10  RoadTrafficDensity   40353 non-null  object \n",
      " 11  VehicleCondition     40353 non-null  int64  \n",
      " 12  TypeOfOrder          40353 non-null  object \n",
      " 13  TypeOfVehicle        40353 non-null  object \n",
      " 14  MultipleDeliveries   40353 non-null  int64  \n",
      " 15  Festival             40353 non-null  object \n",
      " 16  City                 40353 non-null  object \n",
      " 17  TimeTaken            40353 non-null  int64  \n",
      "dtypes: float64(6), int64(3), object(9)\n",
      "memory usage: 5.8+ MB\n"
     ]
    }
   ],
   "source": [
    "data.info()"
   ]
  },
  {
   "cell_type": "markdown",
   "id": "dd303836",
   "metadata": {},
   "source": [
    "## Feature Engineering"
   ]
  },
  {
   "cell_type": "markdown",
   "id": "c4801894",
   "metadata": {},
   "source": [
    "### Distance:\n",
    "Firstly: Based on the coordinates of the resturant and delivery location. We can use a function to determine the distance\n"
   ]
  },
  {
   "cell_type": "code",
   "execution_count": 33,
   "id": "0cda593a",
   "metadata": {},
   "outputs": [],
   "source": [
    "def calcDistance(row):\n",
    "    lat1 = np.radians(row[\"RestaurantLat\"])\n",
    "    lon1 = np.radians(row[\"RestaurantLon\"])\n",
    "    lat2 = np.radians(row[\"DeliveryLocationLat\"])\n",
    "    lon2 = np.radians(row[\"DeliveryLocationLon\"])\n",
    "    return np.arccos(np.sin(lat1) * np.sin(lat2) + np.cos(lat1) * np.cos(lat2) * np.cos(lon2-lon1)) * 6371"
   ]
  },
  {
   "cell_type": "code",
   "execution_count": 34,
   "id": "0f6ea5c4",
   "metadata": {},
   "outputs": [],
   "source": [
    "data[\"Distance\"] = data.apply(calcDistance, axis=1)"
   ]
  },
  {
   "cell_type": "code",
   "execution_count": 35,
   "id": "62758a98",
   "metadata": {},
   "outputs": [
    {
     "data": {
      "text/plain": [
       "count    40353.000000\n",
       "mean        28.669572\n",
       "std        315.930556\n",
       "min          1.465067\n",
       "25%          4.657673\n",
       "50%          9.193521\n",
       "75%         13.681492\n",
       "max       6884.726399\n",
       "Name: Distance, dtype: float64"
      ]
     },
     "execution_count": 35,
     "metadata": {},
     "output_type": "execute_result"
    }
   ],
   "source": [
    "data[\"Distance\"].describe()"
   ]
  },
  {
   "cell_type": "markdown",
   "id": "f3d49cc4",
   "metadata": {},
   "source": [
    "We identify that there the max distance is 6884km which was not possible. So we tried to find extereme distances."
   ]
  },
  {
   "cell_type": "code",
   "execution_count": 36,
   "id": "8eec210d",
   "metadata": {
    "scrolled": true
   },
   "outputs": [
    {
     "data": {
      "text/html": [
       "<div>\n",
       "<style scoped>\n",
       "    .dataframe tbody tr th:only-of-type {\n",
       "        vertical-align: middle;\n",
       "    }\n",
       "\n",
       "    .dataframe tbody tr th {\n",
       "        vertical-align: top;\n",
       "    }\n",
       "\n",
       "    .dataframe thead th {\n",
       "        text-align: right;\n",
       "    }\n",
       "</style>\n",
       "<table border=\"1\" class=\"dataframe\">\n",
       "  <thead>\n",
       "    <tr style=\"text-align: right;\">\n",
       "      <th></th>\n",
       "      <th>Age</th>\n",
       "      <th>Ratings</th>\n",
       "      <th>RestaurantLat</th>\n",
       "      <th>RestaurantLon</th>\n",
       "      <th>DeliveryLocationLat</th>\n",
       "      <th>DeliveryLocationLon</th>\n",
       "      <th>Order_Date</th>\n",
       "      <th>TimeOrdered</th>\n",
       "      <th>TimeOrderPickedUp</th>\n",
       "      <th>WeatherConditions</th>\n",
       "      <th>RoadTrafficDensity</th>\n",
       "      <th>VehicleCondition</th>\n",
       "      <th>TypeOfOrder</th>\n",
       "      <th>TypeOfVehicle</th>\n",
       "      <th>MultipleDeliveries</th>\n",
       "      <th>Festival</th>\n",
       "      <th>City</th>\n",
       "      <th>TimeTaken</th>\n",
       "      <th>Distance</th>\n",
       "    </tr>\n",
       "  </thead>\n",
       "  <tbody>\n",
       "    <tr>\n",
       "      <th>92</th>\n",
       "      <td>34.0</td>\n",
       "      <td>4.7</td>\n",
       "      <td>-27.163303</td>\n",
       "      <td>78.057044</td>\n",
       "      <td>27.233303</td>\n",
       "      <td>78.127044</td>\n",
       "      <td>16-02-2022</td>\n",
       "      <td>23:00:00</td>\n",
       "      <td>23:05:00</td>\n",
       "      <td>conditions Sandstorms</td>\n",
       "      <td>Low</td>\n",
       "      <td>1</td>\n",
       "      <td>Drinks</td>\n",
       "      <td>scooter</td>\n",
       "      <td>0</td>\n",
       "      <td>No</td>\n",
       "      <td>Metropolitian</td>\n",
       "      <td>15</td>\n",
       "      <td>6048.631240</td>\n",
       "    </tr>\n",
       "    <tr>\n",
       "      <th>283</th>\n",
       "      <td>32.0</td>\n",
       "      <td>4.7</td>\n",
       "      <td>-27.165108</td>\n",
       "      <td>78.015053</td>\n",
       "      <td>27.225108</td>\n",
       "      <td>78.075053</td>\n",
       "      <td>13-02-2022</td>\n",
       "      <td>20:55:00</td>\n",
       "      <td>21:10:00</td>\n",
       "      <td>conditions Sandstorms</td>\n",
       "      <td>Jam</td>\n",
       "      <td>2</td>\n",
       "      <td>Meal</td>\n",
       "      <td>scooter</td>\n",
       "      <td>1</td>\n",
       "      <td>No</td>\n",
       "      <td>Metropolitian</td>\n",
       "      <td>31</td>\n",
       "      <td>6047.919478</td>\n",
       "    </tr>\n",
       "    <tr>\n",
       "      <th>1091</th>\n",
       "      <td>20.0</td>\n",
       "      <td>4.7</td>\n",
       "      <td>-15.546594</td>\n",
       "      <td>73.760431</td>\n",
       "      <td>15.606594</td>\n",
       "      <td>73.820431</td>\n",
       "      <td>13-02-2022</td>\n",
       "      <td>20:00:00</td>\n",
       "      <td>20:10:00</td>\n",
       "      <td>conditions Cloudy</td>\n",
       "      <td>Jam</td>\n",
       "      <td>2</td>\n",
       "      <td>Drinks</td>\n",
       "      <td>motorcycle</td>\n",
       "      <td>1</td>\n",
       "      <td>No</td>\n",
       "      <td>Metropolitian</td>\n",
       "      <td>29</td>\n",
       "      <td>3464.082720</td>\n",
       "    </tr>\n",
       "    <tr>\n",
       "      <th>1783</th>\n",
       "      <td>39.0</td>\n",
       "      <td>4.5</td>\n",
       "      <td>-23.230791</td>\n",
       "      <td>77.437020</td>\n",
       "      <td>23.250791</td>\n",
       "      <td>77.457020</td>\n",
       "      <td>13-02-2022</td>\n",
       "      <td>09:15:00</td>\n",
       "      <td>09:20:00</td>\n",
       "      <td>conditions Cloudy</td>\n",
       "      <td>Low</td>\n",
       "      <td>0</td>\n",
       "      <td>Meal</td>\n",
       "      <td>motorcycle</td>\n",
       "      <td>1</td>\n",
       "      <td>No</td>\n",
       "      <td>Metropolitian</td>\n",
       "      <td>29</td>\n",
       "      <td>5168.516553</td>\n",
       "    </tr>\n",
       "    <tr>\n",
       "      <th>1976</th>\n",
       "      <td>25.0</td>\n",
       "      <td>4.0</td>\n",
       "      <td>-22.539129</td>\n",
       "      <td>88.365507</td>\n",
       "      <td>22.549129</td>\n",
       "      <td>88.375507</td>\n",
       "      <td>15-02-2022</td>\n",
       "      <td>09:25:00</td>\n",
       "      <td>09:30:00</td>\n",
       "      <td>conditions Sandstorms</td>\n",
       "      <td>Low</td>\n",
       "      <td>0</td>\n",
       "      <td>Buffet</td>\n",
       "      <td>motorcycle</td>\n",
       "      <td>0</td>\n",
       "      <td>No</td>\n",
       "      <td>Metropolitian</td>\n",
       "      <td>19</td>\n",
       "      <td>5013.585658</td>\n",
       "    </tr>\n",
       "    <tr>\n",
       "      <th>...</th>\n",
       "      <td>...</td>\n",
       "      <td>...</td>\n",
       "      <td>...</td>\n",
       "      <td>...</td>\n",
       "      <td>...</td>\n",
       "      <td>...</td>\n",
       "      <td>...</td>\n",
       "      <td>...</td>\n",
       "      <td>...</td>\n",
       "      <td>...</td>\n",
       "      <td>...</td>\n",
       "      <td>...</td>\n",
       "      <td>...</td>\n",
       "      <td>...</td>\n",
       "      <td>...</td>\n",
       "      <td>...</td>\n",
       "      <td>...</td>\n",
       "      <td>...</td>\n",
       "      <td>...</td>\n",
       "    </tr>\n",
       "    <tr>\n",
       "      <th>43860</th>\n",
       "      <td>32.0</td>\n",
       "      <td>4.6</td>\n",
       "      <td>-15.498603</td>\n",
       "      <td>73.826911</td>\n",
       "      <td>15.568603</td>\n",
       "      <td>73.896911</td>\n",
       "      <td>18-02-2022</td>\n",
       "      <td>23:10:00</td>\n",
       "      <td>23:15:00</td>\n",
       "      <td>conditions Sandstorms</td>\n",
       "      <td>Low</td>\n",
       "      <td>0</td>\n",
       "      <td>Snack</td>\n",
       "      <td>motorcycle</td>\n",
       "      <td>1</td>\n",
       "      <td>No</td>\n",
       "      <td>Metropolitian</td>\n",
       "      <td>24</td>\n",
       "      <td>3454.524245</td>\n",
       "    </tr>\n",
       "    <tr>\n",
       "      <th>44051</th>\n",
       "      <td>22.0</td>\n",
       "      <td>5.0</td>\n",
       "      <td>-15.157944</td>\n",
       "      <td>73.950889</td>\n",
       "      <td>15.217944</td>\n",
       "      <td>74.010889</td>\n",
       "      <td>17-02-2022</td>\n",
       "      <td>18:50:00</td>\n",
       "      <td>18:55:00</td>\n",
       "      <td>conditions Sandstorms</td>\n",
       "      <td>Medium</td>\n",
       "      <td>1</td>\n",
       "      <td>Buffet</td>\n",
       "      <td>scooter</td>\n",
       "      <td>1</td>\n",
       "      <td>No</td>\n",
       "      <td>Metropolitian</td>\n",
       "      <td>27</td>\n",
       "      <td>3377.651072</td>\n",
       "    </tr>\n",
       "    <tr>\n",
       "      <th>44640</th>\n",
       "      <td>23.0</td>\n",
       "      <td>4.8</td>\n",
       "      <td>-9.982834</td>\n",
       "      <td>76.283268</td>\n",
       "      <td>10.072834</td>\n",
       "      <td>76.373268</td>\n",
       "      <td>14-02-2022</td>\n",
       "      <td>19:20:00</td>\n",
       "      <td>19:35:00</td>\n",
       "      <td>conditions Sunny</td>\n",
       "      <td>Jam</td>\n",
       "      <td>0</td>\n",
       "      <td>Drinks</td>\n",
       "      <td>motorcycle</td>\n",
       "      <td>1</td>\n",
       "      <td>No</td>\n",
       "      <td>Metropolitian</td>\n",
       "      <td>21</td>\n",
       "      <td>2230.110757</td>\n",
       "    </tr>\n",
       "    <tr>\n",
       "      <th>44933</th>\n",
       "      <td>30.0</td>\n",
       "      <td>4.9</td>\n",
       "      <td>-19.874733</td>\n",
       "      <td>75.353942</td>\n",
       "      <td>19.904733</td>\n",
       "      <td>75.383942</td>\n",
       "      <td>15-02-2022</td>\n",
       "      <td>22:20:00</td>\n",
       "      <td>22:35:00</td>\n",
       "      <td>conditions Fog</td>\n",
       "      <td>Low</td>\n",
       "      <td>1</td>\n",
       "      <td>Buffet</td>\n",
       "      <td>motorcycle</td>\n",
       "      <td>0</td>\n",
       "      <td>No</td>\n",
       "      <td>Metropolitian</td>\n",
       "      <td>15</td>\n",
       "      <td>4423.276011</td>\n",
       "    </tr>\n",
       "    <tr>\n",
       "      <th>45182</th>\n",
       "      <td>30.0</td>\n",
       "      <td>4.0</td>\n",
       "      <td>-26.482581</td>\n",
       "      <td>80.315628</td>\n",
       "      <td>26.532581</td>\n",
       "      <td>80.365628</td>\n",
       "      <td>17-02-2022</td>\n",
       "      <td>22:25:00</td>\n",
       "      <td>22:40:00</td>\n",
       "      <td>conditions Sandstorms</td>\n",
       "      <td>Low</td>\n",
       "      <td>0</td>\n",
       "      <td>Drinks</td>\n",
       "      <td>motorcycle</td>\n",
       "      <td>1</td>\n",
       "      <td>No</td>\n",
       "      <td>Metropolitian</td>\n",
       "      <td>34</td>\n",
       "      <td>5895.019482</td>\n",
       "    </tr>\n",
       "  </tbody>\n",
       "</table>\n",
       "<p>156 rows × 19 columns</p>\n",
       "</div>"
      ],
      "text/plain": [
       "        Age  Ratings  RestaurantLat  RestaurantLon  DeliveryLocationLat  \\\n",
       "92     34.0      4.7     -27.163303      78.057044            27.233303   \n",
       "283    32.0      4.7     -27.165108      78.015053            27.225108   \n",
       "1091   20.0      4.7     -15.546594      73.760431            15.606594   \n",
       "1783   39.0      4.5     -23.230791      77.437020            23.250791   \n",
       "1976   25.0      4.0     -22.539129      88.365507            22.549129   \n",
       "...     ...      ...            ...            ...                  ...   \n",
       "43860  32.0      4.6     -15.498603      73.826911            15.568603   \n",
       "44051  22.0      5.0     -15.157944      73.950889            15.217944   \n",
       "44640  23.0      4.8      -9.982834      76.283268            10.072834   \n",
       "44933  30.0      4.9     -19.874733      75.353942            19.904733   \n",
       "45182  30.0      4.0     -26.482581      80.315628            26.532581   \n",
       "\n",
       "       DeliveryLocationLon  Order_Date TimeOrdered TimeOrderPickedUp  \\\n",
       "92               78.127044  16-02-2022    23:00:00          23:05:00   \n",
       "283              78.075053  13-02-2022    20:55:00          21:10:00   \n",
       "1091             73.820431  13-02-2022    20:00:00          20:10:00   \n",
       "1783             77.457020  13-02-2022    09:15:00          09:20:00   \n",
       "1976             88.375507  15-02-2022    09:25:00          09:30:00   \n",
       "...                    ...         ...         ...               ...   \n",
       "43860            73.896911  18-02-2022    23:10:00          23:15:00   \n",
       "44051            74.010889  17-02-2022    18:50:00          18:55:00   \n",
       "44640            76.373268  14-02-2022    19:20:00          19:35:00   \n",
       "44933            75.383942  15-02-2022    22:20:00          22:35:00   \n",
       "45182            80.365628  17-02-2022    22:25:00          22:40:00   \n",
       "\n",
       "           WeatherConditions RoadTrafficDensity  VehicleCondition TypeOfOrder  \\\n",
       "92     conditions Sandstorms               Low                  1     Drinks    \n",
       "283    conditions Sandstorms               Jam                  2       Meal    \n",
       "1091       conditions Cloudy               Jam                  2     Drinks    \n",
       "1783       conditions Cloudy               Low                  0       Meal    \n",
       "1976   conditions Sandstorms               Low                  0     Buffet    \n",
       "...                      ...                ...               ...         ...   \n",
       "43860  conditions Sandstorms               Low                  0      Snack    \n",
       "44051  conditions Sandstorms            Medium                  1     Buffet    \n",
       "44640       conditions Sunny               Jam                  0     Drinks    \n",
       "44933         conditions Fog               Low                  1     Buffet    \n",
       "45182  conditions Sandstorms               Low                  0     Drinks    \n",
       "\n",
       "      TypeOfVehicle  MultipleDeliveries Festival            City  TimeTaken  \\\n",
       "92         scooter                    0      No   Metropolitian          15   \n",
       "283        scooter                    1      No   Metropolitian          31   \n",
       "1091    motorcycle                    1      No   Metropolitian          29   \n",
       "1783    motorcycle                    1      No   Metropolitian          29   \n",
       "1976    motorcycle                    0      No   Metropolitian          19   \n",
       "...             ...                 ...      ...             ...        ...   \n",
       "43860   motorcycle                    1      No   Metropolitian          24   \n",
       "44051      scooter                    1      No   Metropolitian          27   \n",
       "44640   motorcycle                    1      No   Metropolitian          21   \n",
       "44933   motorcycle                    0      No   Metropolitian          15   \n",
       "45182   motorcycle                    1      No   Metropolitian          34   \n",
       "\n",
       "          Distance  \n",
       "92     6048.631240  \n",
       "283    6047.919478  \n",
       "1091   3464.082720  \n",
       "1783   5168.516553  \n",
       "1976   5013.585658  \n",
       "...            ...  \n",
       "43860  3454.524245  \n",
       "44051  3377.651072  \n",
       "44640  2230.110757  \n",
       "44933  4423.276011  \n",
       "45182  5895.019482  \n",
       "\n",
       "[156 rows x 19 columns]"
      ]
     },
     "execution_count": 36,
     "metadata": {},
     "output_type": "execute_result"
    }
   ],
   "source": [
    "data.loc[data['Distance'] > 100]"
   ]
  },
  {
   "cell_type": "markdown",
   "id": "368162e3",
   "metadata": {},
   "source": [
    "We identified that the `RestaurantLat` was negative. Since the data was collected from India, where coordinate values should be positive (`6.00 <= Lat <= 33.5, 68.00 <= Lon <= 98.00`), we inferred that they could have been mistaken. Therefore, we changed it to postive and recalculated the distance."
   ]
  },
  {
   "cell_type": "code",
   "execution_count": 37,
   "id": "790e5151",
   "metadata": {},
   "outputs": [
    {
     "data": {
      "text/html": [
       "<div>\n",
       "<style scoped>\n",
       "    .dataframe tbody tr th:only-of-type {\n",
       "        vertical-align: middle;\n",
       "    }\n",
       "\n",
       "    .dataframe tbody tr th {\n",
       "        vertical-align: top;\n",
       "    }\n",
       "\n",
       "    .dataframe thead th {\n",
       "        text-align: right;\n",
       "    }\n",
       "</style>\n",
       "<table border=\"1\" class=\"dataframe\">\n",
       "  <thead>\n",
       "    <tr style=\"text-align: right;\">\n",
       "      <th></th>\n",
       "      <th>Age</th>\n",
       "      <th>Ratings</th>\n",
       "      <th>RestaurantLat</th>\n",
       "      <th>RestaurantLon</th>\n",
       "      <th>DeliveryLocationLat</th>\n",
       "      <th>DeliveryLocationLon</th>\n",
       "      <th>VehicleCondition</th>\n",
       "      <th>MultipleDeliveries</th>\n",
       "      <th>TimeTaken</th>\n",
       "      <th>Distance</th>\n",
       "    </tr>\n",
       "  </thead>\n",
       "  <tbody>\n",
       "    <tr>\n",
       "      <th>count</th>\n",
       "      <td>156.000000</td>\n",
       "      <td>156.000000</td>\n",
       "      <td>156.000000</td>\n",
       "      <td>156.000000</td>\n",
       "      <td>156.000000</td>\n",
       "      <td>156.000000</td>\n",
       "      <td>156.000000</td>\n",
       "      <td>156.000000</td>\n",
       "      <td>156.000000</td>\n",
       "      <td>156.000000</td>\n",
       "    </tr>\n",
       "    <tr>\n",
       "      <th>mean</th>\n",
       "      <td>29.615385</td>\n",
       "      <td>4.629935</td>\n",
       "      <td>-22.057652</td>\n",
       "      <td>79.023193</td>\n",
       "      <td>22.119575</td>\n",
       "      <td>79.085116</td>\n",
       "      <td>1.051282</td>\n",
       "      <td>0.730769</td>\n",
       "      <td>25.083333</td>\n",
       "      <td>4912.290324</td>\n",
       "    </tr>\n",
       "    <tr>\n",
       "      <th>std</th>\n",
       "      <td>5.503619</td>\n",
       "      <td>0.301779</td>\n",
       "      <td>6.165278</td>\n",
       "      <td>4.824553</td>\n",
       "      <td>6.164794</td>\n",
       "      <td>4.821753</td>\n",
       "      <td>0.840851</td>\n",
       "      <td>0.560485</td>\n",
       "      <td>8.486010</td>\n",
       "      <td>1371.032845</td>\n",
       "    </tr>\n",
       "    <tr>\n",
       "      <th>min</th>\n",
       "      <td>20.000000</td>\n",
       "      <td>3.400000</td>\n",
       "      <td>-30.902872</td>\n",
       "      <td>73.742294</td>\n",
       "      <td>9.969778</td>\n",
       "      <td>73.769478</td>\n",
       "      <td>0.000000</td>\n",
       "      <td>-1.000000</td>\n",
       "      <td>10.000000</td>\n",
       "      <td>2216.065794</td>\n",
       "    </tr>\n",
       "    <tr>\n",
       "      <th>25%</th>\n",
       "      <td>25.000000</td>\n",
       "      <td>4.600000</td>\n",
       "      <td>-26.474346</td>\n",
       "      <td>75.372353</td>\n",
       "      <td>19.885254</td>\n",
       "      <td>75.502353</td>\n",
       "      <td>0.000000</td>\n",
       "      <td>0.000000</td>\n",
       "      <td>19.000000</td>\n",
       "      <td>4421.166849</td>\n",
       "    </tr>\n",
       "    <tr>\n",
       "      <th>50%</th>\n",
       "      <td>30.000000</td>\n",
       "      <td>4.700000</td>\n",
       "      <td>-22.552040</td>\n",
       "      <td>77.429917</td>\n",
       "      <td>22.621559</td>\n",
       "      <td>77.488536</td>\n",
       "      <td>1.000000</td>\n",
       "      <td>1.000000</td>\n",
       "      <td>25.000000</td>\n",
       "      <td>5021.474291</td>\n",
       "    </tr>\n",
       "    <tr>\n",
       "      <th>75%</th>\n",
       "      <td>34.000000</td>\n",
       "      <td>4.800000</td>\n",
       "      <td>-19.872579</td>\n",
       "      <td>80.354002</td>\n",
       "      <td>26.551533</td>\n",
       "      <td>80.464002</td>\n",
       "      <td>2.000000</td>\n",
       "      <td>1.000000</td>\n",
       "      <td>30.250000</td>\n",
       "      <td>5895.928471</td>\n",
       "    </tr>\n",
       "    <tr>\n",
       "      <th>max</th>\n",
       "      <td>39.000000</td>\n",
       "      <td>5.000000</td>\n",
       "      <td>-9.959778</td>\n",
       "      <td>88.433452</td>\n",
       "      <td>31.012872</td>\n",
       "      <td>88.523452</td>\n",
       "      <td>2.000000</td>\n",
       "      <td>3.000000</td>\n",
       "      <td>51.000000</td>\n",
       "      <td>6884.726399</td>\n",
       "    </tr>\n",
       "  </tbody>\n",
       "</table>\n",
       "</div>"
      ],
      "text/plain": [
       "              Age     Ratings  RestaurantLat  RestaurantLon  \\\n",
       "count  156.000000  156.000000     156.000000     156.000000   \n",
       "mean    29.615385    4.629935     -22.057652      79.023193   \n",
       "std      5.503619    0.301779       6.165278       4.824553   \n",
       "min     20.000000    3.400000     -30.902872      73.742294   \n",
       "25%     25.000000    4.600000     -26.474346      75.372353   \n",
       "50%     30.000000    4.700000     -22.552040      77.429917   \n",
       "75%     34.000000    4.800000     -19.872579      80.354002   \n",
       "max     39.000000    5.000000      -9.959778      88.433452   \n",
       "\n",
       "       DeliveryLocationLat  DeliveryLocationLon  VehicleCondition  \\\n",
       "count           156.000000           156.000000        156.000000   \n",
       "mean             22.119575            79.085116          1.051282   \n",
       "std               6.164794             4.821753          0.840851   \n",
       "min               9.969778            73.769478          0.000000   \n",
       "25%              19.885254            75.502353          0.000000   \n",
       "50%              22.621559            77.488536          1.000000   \n",
       "75%              26.551533            80.464002          2.000000   \n",
       "max              31.012872            88.523452          2.000000   \n",
       "\n",
       "       MultipleDeliveries   TimeTaken     Distance  \n",
       "count          156.000000  156.000000   156.000000  \n",
       "mean             0.730769   25.083333  4912.290324  \n",
       "std              0.560485    8.486010  1371.032845  \n",
       "min             -1.000000   10.000000  2216.065794  \n",
       "25%              0.000000   19.000000  4421.166849  \n",
       "50%              1.000000   25.000000  5021.474291  \n",
       "75%              1.000000   30.250000  5895.928471  \n",
       "max              3.000000   51.000000  6884.726399  "
      ]
     },
     "execution_count": 37,
     "metadata": {},
     "output_type": "execute_result"
    }
   ],
   "source": [
    "data.query(\n",
    "    \"RestaurantLat >= 33.5 or RestaurantLat <= 6.00 or RestaurantLon <= 68.00 or RestaurantLon >= 98.00\"\n",
    ").describe()    # look at RestaurantLat. They are all negative."
   ]
  },
  {
   "cell_type": "code",
   "execution_count": 38,
   "id": "e6b90458",
   "metadata": {},
   "outputs": [],
   "source": [
    "data.loc[data['Distance'] > 100, 'RestaurantLat'] *= -1     # roughly, filter out all unreasonable distances"
   ]
  },
  {
   "cell_type": "code",
   "execution_count": 39,
   "id": "c3dbed9c",
   "metadata": {},
   "outputs": [
    {
     "data": {
      "text/plain": [
       "count    40353.000000\n",
       "mean         9.715430\n",
       "std          5.597583\n",
       "min          1.465067\n",
       "25%          4.657655\n",
       "50%          9.193014\n",
       "75%         13.631449\n",
       "max         20.969489\n",
       "Name: Distance, dtype: float64"
      ]
     },
     "execution_count": 39,
     "metadata": {},
     "output_type": "execute_result"
    }
   ],
   "source": [
    "data[\"Distance\"] = data.apply(calcDistance, axis=1)\n",
    "data['Distance'].describe()"
   ]
  },
  {
   "cell_type": "markdown",
   "id": "c08f148a",
   "metadata": {},
   "source": [
    "Now, the `Distance` looks more reasonable."
   ]
  },
  {
   "cell_type": "markdown",
   "id": "f9079534",
   "metadata": {},
   "source": [
    "### Order_Date:\n",
    "In order to use this in a more useful way, we converted it to the day of the week instead."
   ]
  },
  {
   "cell_type": "code",
   "execution_count": 40,
   "id": "94c0e8aa",
   "metadata": {},
   "outputs": [],
   "source": [
    "data['Order_Date'] = pd.to_datetime(data['Order_Date'], format='%d-%m-%Y')"
   ]
  },
  {
   "cell_type": "code",
   "execution_count": 41,
   "id": "f050844e",
   "metadata": {},
   "outputs": [],
   "source": [
    "data['Day'] = data['Order_Date'].dt.day_name()"
   ]
  },
  {
   "cell_type": "code",
   "execution_count": 42,
   "id": "84b2b762",
   "metadata": {},
   "outputs": [],
   "source": [
    "data = data.drop('Order_Date', axis=1)"
   ]
  },
  {
   "cell_type": "code",
   "execution_count": 43,
   "id": "64745562",
   "metadata": {},
   "outputs": [
    {
     "name": "stdout",
     "output_type": "stream",
     "text": [
      "<class 'pandas.core.frame.DataFrame'>\n",
      "Index: 40353 entries, 0 to 45592\n",
      "Data columns (total 19 columns):\n",
      " #   Column               Non-Null Count  Dtype  \n",
      "---  ------               --------------  -----  \n",
      " 0   Age                  40353 non-null  float64\n",
      " 1   Ratings              40353 non-null  float64\n",
      " 2   RestaurantLat        40353 non-null  float64\n",
      " 3   RestaurantLon        40353 non-null  float64\n",
      " 4   DeliveryLocationLat  40353 non-null  float64\n",
      " 5   DeliveryLocationLon  40353 non-null  float64\n",
      " 6   TimeOrdered          40353 non-null  object \n",
      " 7   TimeOrderPickedUp    40353 non-null  object \n",
      " 8   WeatherConditions    40353 non-null  object \n",
      " 9   RoadTrafficDensity   40353 non-null  object \n",
      " 10  VehicleCondition     40353 non-null  int64  \n",
      " 11  TypeOfOrder          40353 non-null  object \n",
      " 12  TypeOfVehicle        40353 non-null  object \n",
      " 13  MultipleDeliveries   40353 non-null  int64  \n",
      " 14  Festival             40353 non-null  object \n",
      " 15  City                 40353 non-null  object \n",
      " 16  TimeTaken            40353 non-null  int64  \n",
      " 17  Distance             40353 non-null  float64\n",
      " 18  Day                  40353 non-null  object \n",
      "dtypes: float64(7), int64(3), object(9)\n",
      "memory usage: 6.2+ MB\n"
     ]
    }
   ],
   "source": [
    "data.info()"
   ]
  },
  {
   "cell_type": "code",
   "execution_count": 44,
   "id": "0ffd3758",
   "metadata": {},
   "outputs": [
    {
     "data": {
      "text/plain": [
       "array(['Saturday', 'Friday', 'Tuesday', 'Monday', 'Sunday', 'Wednesday',\n",
       "       'Thursday'], dtype=object)"
      ]
     },
     "execution_count": 44,
     "metadata": {},
     "output_type": "execute_result"
    }
   ],
   "source": [
    "data['Day'].unique()"
   ]
  },
  {
   "cell_type": "markdown",
   "id": "a18ee46e",
   "metadata": {},
   "source": [
    "### TimeOrdered:\n",
    "To better make use of these data, we created a new column with the hour instead."
   ]
  },
  {
   "cell_type": "code",
   "execution_count": 45,
   "id": "8251011e",
   "metadata": {},
   "outputs": [],
   "source": [
    "data['TimeOrdered'] = pd.to_datetime(data['TimeOrdered'], format='%H:%M:%S')"
   ]
  },
  {
   "cell_type": "code",
   "execution_count": 46,
   "id": "8878fc83",
   "metadata": {},
   "outputs": [],
   "source": [
    "data['Hour'] = data['TimeOrdered'].dt.hour\n"
   ]
  },
  {
   "cell_type": "code",
   "execution_count": 47,
   "id": "019b6c22",
   "metadata": {},
   "outputs": [],
   "source": [
    "data = data.drop('TimeOrdered', axis=1)"
   ]
  },
  {
   "cell_type": "code",
   "execution_count": 48,
   "id": "ef413c04",
   "metadata": {},
   "outputs": [
    {
     "name": "stdout",
     "output_type": "stream",
     "text": [
      "<class 'pandas.core.frame.DataFrame'>\n",
      "Index: 40353 entries, 0 to 45592\n",
      "Data columns (total 19 columns):\n",
      " #   Column               Non-Null Count  Dtype  \n",
      "---  ------               --------------  -----  \n",
      " 0   Age                  40353 non-null  float64\n",
      " 1   Ratings              40353 non-null  float64\n",
      " 2   RestaurantLat        40353 non-null  float64\n",
      " 3   RestaurantLon        40353 non-null  float64\n",
      " 4   DeliveryLocationLat  40353 non-null  float64\n",
      " 5   DeliveryLocationLon  40353 non-null  float64\n",
      " 6   TimeOrderPickedUp    40353 non-null  object \n",
      " 7   WeatherConditions    40353 non-null  object \n",
      " 8   RoadTrafficDensity   40353 non-null  object \n",
      " 9   VehicleCondition     40353 non-null  int64  \n",
      " 10  TypeOfOrder          40353 non-null  object \n",
      " 11  TypeOfVehicle        40353 non-null  object \n",
      " 12  MultipleDeliveries   40353 non-null  int64  \n",
      " 13  Festival             40353 non-null  object \n",
      " 14  City                 40353 non-null  object \n",
      " 15  TimeTaken            40353 non-null  int64  \n",
      " 16  Distance             40353 non-null  float64\n",
      " 17  Day                  40353 non-null  object \n",
      " 18  Hour                 40353 non-null  int32  \n",
      "dtypes: float64(7), int32(1), int64(3), object(8)\n",
      "memory usage: 6.0+ MB\n"
     ]
    }
   ],
   "source": [
    "data.info()"
   ]
  },
  {
   "cell_type": "code",
   "execution_count": 49,
   "id": "00c409ea",
   "metadata": {},
   "outputs": [],
   "source": [
    "data.to_csv(r'train_cleaned.csv', index=False)"
   ]
  },
  {
   "cell_type": "code",
   "execution_count": null,
   "id": "b8dbf7b8",
   "metadata": {},
   "outputs": [],
   "source": []
  }
 ],
 "metadata": {
  "kernelspec": {
   "display_name": "Python 3 (ipykernel)",
   "language": "python",
   "name": "python3"
  },
  "language_info": {
   "codemirror_mode": {
    "name": "ipython",
    "version": 3
   },
   "file_extension": ".py",
   "mimetype": "text/x-python",
   "name": "python",
   "nbconvert_exporter": "python",
   "pygments_lexer": "ipython3",
   "version": "3.11.5"
  }
 },
 "nbformat": 4,
 "nbformat_minor": 5
}
