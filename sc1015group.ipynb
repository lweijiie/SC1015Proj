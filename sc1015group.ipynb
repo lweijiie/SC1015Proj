{
 "cells": [
  {
   "cell_type": "code",
   "execution_count": 1,
   "id": "b440d713-ce20-4956-bd54-ca363fd11b55",
   "metadata": {},
   "outputs": [],
   "source": [
    "import pandas as pd\n",
    "import seaborn as sb\n",
    "import numpy as np\n",
    "import matplotlib.pyplot as plt"
   ]
  },
  {
   "cell_type": "code",
   "execution_count": 2,
   "id": "41ee22a4",
   "metadata": {},
   "outputs": [],
   "source": [
    "import missingno as msno"
   ]
  },
  {
   "cell_type": "code",
   "execution_count": 3,
   "id": "9a4c92d0-6410-44c1-b754-0c80e0dd4a9e",
   "metadata": {},
   "outputs": [
    {
     "data": {
      "text/html": [
       "<div>\n",
       "<style scoped>\n",
       "    .dataframe tbody tr th:only-of-type {\n",
       "        vertical-align: middle;\n",
       "    }\n",
       "\n",
       "    .dataframe tbody tr th {\n",
       "        vertical-align: top;\n",
       "    }\n",
       "\n",
       "    .dataframe thead th {\n",
       "        text-align: right;\n",
       "    }\n",
       "</style>\n",
       "<table border=\"1\" class=\"dataframe\">\n",
       "  <thead>\n",
       "    <tr style=\"text-align: right;\">\n",
       "      <th></th>\n",
       "      <th>ID</th>\n",
       "      <th>Delivery_person_ID</th>\n",
       "      <th>Delivery_person_Age</th>\n",
       "      <th>Delivery_person_Ratings</th>\n",
       "      <th>Restaurant_latitude</th>\n",
       "      <th>Restaurant_longitude</th>\n",
       "      <th>Delivery_location_latitude</th>\n",
       "      <th>Delivery_location_longitude</th>\n",
       "      <th>Order_Date</th>\n",
       "      <th>Time_Orderd</th>\n",
       "      <th>Time_Order_picked</th>\n",
       "      <th>Weatherconditions</th>\n",
       "      <th>Road_traffic_density</th>\n",
       "      <th>Vehicle_condition</th>\n",
       "      <th>Type_of_order</th>\n",
       "      <th>Type_of_vehicle</th>\n",
       "      <th>multiple_deliveries</th>\n",
       "      <th>Festival</th>\n",
       "      <th>City</th>\n",
       "      <th>Time_taken(min)</th>\n",
       "    </tr>\n",
       "  </thead>\n",
       "  <tbody>\n",
       "    <tr>\n",
       "      <th>0</th>\n",
       "      <td>0x4607</td>\n",
       "      <td>INDORES13DEL02</td>\n",
       "      <td>37</td>\n",
       "      <td>4.9</td>\n",
       "      <td>22.745049</td>\n",
       "      <td>75.892471</td>\n",
       "      <td>22.765049</td>\n",
       "      <td>75.912471</td>\n",
       "      <td>19-03-2022</td>\n",
       "      <td>11:30:00</td>\n",
       "      <td>11:45:00</td>\n",
       "      <td>conditions Sunny</td>\n",
       "      <td>High</td>\n",
       "      <td>2</td>\n",
       "      <td>Snack</td>\n",
       "      <td>motorcycle</td>\n",
       "      <td>0</td>\n",
       "      <td>No</td>\n",
       "      <td>Urban</td>\n",
       "      <td>(min) 24</td>\n",
       "    </tr>\n",
       "    <tr>\n",
       "      <th>1</th>\n",
       "      <td>0xb379</td>\n",
       "      <td>BANGRES18DEL02</td>\n",
       "      <td>34</td>\n",
       "      <td>4.5</td>\n",
       "      <td>12.913041</td>\n",
       "      <td>77.683237</td>\n",
       "      <td>13.043041</td>\n",
       "      <td>77.813237</td>\n",
       "      <td>25-03-2022</td>\n",
       "      <td>19:45:00</td>\n",
       "      <td>19:50:00</td>\n",
       "      <td>conditions Stormy</td>\n",
       "      <td>Jam</td>\n",
       "      <td>2</td>\n",
       "      <td>Snack</td>\n",
       "      <td>scooter</td>\n",
       "      <td>1</td>\n",
       "      <td>No</td>\n",
       "      <td>Metropolitian</td>\n",
       "      <td>(min) 33</td>\n",
       "    </tr>\n",
       "    <tr>\n",
       "      <th>2</th>\n",
       "      <td>0x5d6d</td>\n",
       "      <td>BANGRES19DEL01</td>\n",
       "      <td>23</td>\n",
       "      <td>4.4</td>\n",
       "      <td>12.914264</td>\n",
       "      <td>77.678400</td>\n",
       "      <td>12.924264</td>\n",
       "      <td>77.688400</td>\n",
       "      <td>19-03-2022</td>\n",
       "      <td>08:30:00</td>\n",
       "      <td>08:45:00</td>\n",
       "      <td>conditions Sandstorms</td>\n",
       "      <td>Low</td>\n",
       "      <td>0</td>\n",
       "      <td>Drinks</td>\n",
       "      <td>motorcycle</td>\n",
       "      <td>1</td>\n",
       "      <td>No</td>\n",
       "      <td>Urban</td>\n",
       "      <td>(min) 26</td>\n",
       "    </tr>\n",
       "    <tr>\n",
       "      <th>3</th>\n",
       "      <td>0x7a6a</td>\n",
       "      <td>COIMBRES13DEL02</td>\n",
       "      <td>38</td>\n",
       "      <td>4.7</td>\n",
       "      <td>11.003669</td>\n",
       "      <td>76.976494</td>\n",
       "      <td>11.053669</td>\n",
       "      <td>77.026494</td>\n",
       "      <td>05-04-2022</td>\n",
       "      <td>18:00:00</td>\n",
       "      <td>18:10:00</td>\n",
       "      <td>conditions Sunny</td>\n",
       "      <td>Medium</td>\n",
       "      <td>0</td>\n",
       "      <td>Buffet</td>\n",
       "      <td>motorcycle</td>\n",
       "      <td>1</td>\n",
       "      <td>No</td>\n",
       "      <td>Metropolitian</td>\n",
       "      <td>(min) 21</td>\n",
       "    </tr>\n",
       "    <tr>\n",
       "      <th>4</th>\n",
       "      <td>0x70a2</td>\n",
       "      <td>CHENRES12DEL01</td>\n",
       "      <td>32</td>\n",
       "      <td>4.6</td>\n",
       "      <td>12.972793</td>\n",
       "      <td>80.249982</td>\n",
       "      <td>13.012793</td>\n",
       "      <td>80.289982</td>\n",
       "      <td>26-03-2022</td>\n",
       "      <td>13:30:00</td>\n",
       "      <td>13:45:00</td>\n",
       "      <td>conditions Cloudy</td>\n",
       "      <td>High</td>\n",
       "      <td>1</td>\n",
       "      <td>Snack</td>\n",
       "      <td>scooter</td>\n",
       "      <td>1</td>\n",
       "      <td>No</td>\n",
       "      <td>Metropolitian</td>\n",
       "      <td>(min) 30</td>\n",
       "    </tr>\n",
       "  </tbody>\n",
       "</table>\n",
       "</div>"
      ],
      "text/plain": [
       "        ID Delivery_person_ID Delivery_person_Age Delivery_person_Ratings  \\\n",
       "0  0x4607     INDORES13DEL02                   37                     4.9   \n",
       "1  0xb379     BANGRES18DEL02                   34                     4.5   \n",
       "2  0x5d6d     BANGRES19DEL01                   23                     4.4   \n",
       "3  0x7a6a    COIMBRES13DEL02                   38                     4.7   \n",
       "4  0x70a2     CHENRES12DEL01                   32                     4.6   \n",
       "\n",
       "   Restaurant_latitude  Restaurant_longitude  Delivery_location_latitude  \\\n",
       "0            22.745049             75.892471                   22.765049   \n",
       "1            12.913041             77.683237                   13.043041   \n",
       "2            12.914264             77.678400                   12.924264   \n",
       "3            11.003669             76.976494                   11.053669   \n",
       "4            12.972793             80.249982                   13.012793   \n",
       "\n",
       "   Delivery_location_longitude  Order_Date Time_Orderd Time_Order_picked  \\\n",
       "0                    75.912471  19-03-2022    11:30:00          11:45:00   \n",
       "1                    77.813237  25-03-2022    19:45:00          19:50:00   \n",
       "2                    77.688400  19-03-2022    08:30:00          08:45:00   \n",
       "3                    77.026494  05-04-2022    18:00:00          18:10:00   \n",
       "4                    80.289982  26-03-2022    13:30:00          13:45:00   \n",
       "\n",
       "       Weatherconditions Road_traffic_density  Vehicle_condition  \\\n",
       "0       conditions Sunny                High                   2   \n",
       "1      conditions Stormy                 Jam                   2   \n",
       "2  conditions Sandstorms                 Low                   0   \n",
       "3       conditions Sunny              Medium                   0   \n",
       "4      conditions Cloudy                High                   1   \n",
       "\n",
       "  Type_of_order Type_of_vehicle multiple_deliveries Festival            City  \\\n",
       "0        Snack      motorcycle                    0      No           Urban    \n",
       "1        Snack         scooter                    1      No   Metropolitian    \n",
       "2       Drinks      motorcycle                    1      No           Urban    \n",
       "3       Buffet      motorcycle                    1      No   Metropolitian    \n",
       "4        Snack         scooter                    1      No   Metropolitian    \n",
       "\n",
       "  Time_taken(min)  \n",
       "0        (min) 24  \n",
       "1        (min) 33  \n",
       "2        (min) 26  \n",
       "3        (min) 21  \n",
       "4        (min) 30  "
      ]
     },
     "execution_count": 3,
     "metadata": {},
     "output_type": "execute_result"
    }
   ],
   "source": [
    "data = pd.read_csv(\"train.csv\")\n",
    "data.head()"
   ]
  },
  {
   "cell_type": "markdown",
   "id": "27e46ca6-41dc-486b-9c8c-2ab4d0f64602",
   "metadata": {},
   "source": [
    "## Data Cleaning"
   ]
  },
  {
   "cell_type": "code",
   "execution_count": 4,
   "id": "72ee4667-7c46-40c7-82c2-4d30518450e9",
   "metadata": {},
   "outputs": [
    {
     "data": {
      "text/plain": [
       "ID                              object\n",
       "Delivery_person_ID              object\n",
       "Delivery_person_Age             object\n",
       "Delivery_person_Ratings         object\n",
       "Restaurant_latitude            float64\n",
       "Restaurant_longitude           float64\n",
       "Delivery_location_latitude     float64\n",
       "Delivery_location_longitude    float64\n",
       "Order_Date                      object\n",
       "Time_Orderd                     object\n",
       "Time_Order_picked               object\n",
       "Weatherconditions               object\n",
       "Road_traffic_density            object\n",
       "Vehicle_condition                int64\n",
       "Type_of_order                   object\n",
       "Type_of_vehicle                 object\n",
       "multiple_deliveries             object\n",
       "Festival                        object\n",
       "City                            object\n",
       "Time_taken(min)                 object\n",
       "dtype: object"
      ]
     },
     "execution_count": 4,
     "metadata": {},
     "output_type": "execute_result"
    }
   ],
   "source": [
    "# some type conversions are necessary\n",
    "data.dtypes"
   ]
  },
  {
   "cell_type": "markdown",
   "id": "f02db1c5",
   "metadata": {},
   "source": [
    "### Replacing string Nan to Numpy nan\n",
    "The NaN values in the data set are recgonised as strings. So a conversion is need for panda to detect as NaN"
   ]
  },
  {
   "cell_type": "code",
   "execution_count": 5,
   "id": "b287f19e",
   "metadata": {},
   "outputs": [
    {
     "name": "stdout",
     "output_type": "stream",
     "text": [
      "<class 'pandas.core.frame.DataFrame'>\n",
      "RangeIndex: 45593 entries, 0 to 45592\n",
      "Data columns (total 20 columns):\n",
      " #   Column                       Non-Null Count  Dtype  \n",
      "---  ------                       --------------  -----  \n",
      " 0   ID                           45593 non-null  object \n",
      " 1   Delivery_person_ID           45593 non-null  object \n",
      " 2   Delivery_person_Age          43739 non-null  object \n",
      " 3   Delivery_person_Ratings      43685 non-null  object \n",
      " 4   Restaurant_latitude          45593 non-null  float64\n",
      " 5   Restaurant_longitude         45593 non-null  float64\n",
      " 6   Delivery_location_latitude   45593 non-null  float64\n",
      " 7   Delivery_location_longitude  45593 non-null  float64\n",
      " 8   Order_Date                   45593 non-null  object \n",
      " 9   Time_Orderd                  43862 non-null  object \n",
      " 10  Time_Order_picked            45593 non-null  object \n",
      " 11  Weatherconditions            45593 non-null  object \n",
      " 12  Road_traffic_density         44992 non-null  object \n",
      " 13  Vehicle_condition            45593 non-null  int64  \n",
      " 14  Type_of_order                45593 non-null  object \n",
      " 15  Type_of_vehicle              45593 non-null  object \n",
      " 16  multiple_deliveries          44600 non-null  object \n",
      " 17  Festival                     45365 non-null  object \n",
      " 18  City                         44393 non-null  object \n",
      " 19  Time_taken(min)              45593 non-null  object \n",
      "dtypes: float64(4), int64(1), object(15)\n",
      "memory usage: 7.0+ MB\n"
     ]
    }
   ],
   "source": [
    "data.replace('NaN ', np.nan, inplace=True)\n",
    "data.info()"
   ]
  },
  {
   "cell_type": "markdown",
   "id": "431e962d",
   "metadata": {},
   "source": [
    "### Replacing missing coordinate value with NaN"
   ]
  },
  {
   "cell_type": "code",
   "execution_count": 6,
   "id": "a876a301",
   "metadata": {},
   "outputs": [],
   "source": [
    "data['Restaurant_latitude'].replace(0, np.nan, inplace=True)\n",
    "data['Restaurant_longitude'].replace(0, np.nan, inplace=True)\n"
   ]
  },
  {
   "cell_type": "markdown",
   "id": "b3e08de5",
   "metadata": {},
   "source": [
    "### Using msno to visualise missing data\n",
    "We use msno and found out that there are many missing data in the same row. We belive that there are problems with these data and will drop these rows."
   ]
  },
  {
   "cell_type": "code",
   "execution_count": 7,
   "id": "7488cba9",
   "metadata": {},
   "outputs": [
    {
     "data": {
      "text/plain": [
       "<Axes: >"
      ]
     },
     "execution_count": 7,
     "metadata": {},
     "output_type": "execute_result"
    },
    {
     "data": {
      "image/png": "[encoded data removed]",
      "text/plain": [
       "<Figure size 2500x1000 with 2 Axes>"
      ]
     },
     "metadata": {},
     "output_type": "display_data"
    }
   ],
   "source": [
    "msno.matrix(data)"
   ]
  },
  {
   "cell_type": "markdown",
   "id": "0bcbf4b5",
   "metadata": {},
   "source": [
    "### Changing Age into catergorical "
   ]
  },
  {
   "cell_type": "code",
   "execution_count": 8,
   "id": "51dc6b7b-b9bd-4443-a9fb-a042a9f27b2f",
   "metadata": {},
   "outputs": [
    {
     "data": {
      "text/plain": [
       "(45593, 21)"
      ]
     },
     "execution_count": 8,
     "metadata": {},
     "output_type": "execute_result"
    }
   ],
   "source": [
    "# turn the age into levels (categorical)\n",
    "# data = data.loc[data['Delivery_person_Age'] != \"NaN \"]\n",
    "data['Delivery_person_Age'] = pd.to_numeric(data['Delivery_person_Age'])\n",
    "\n",
    "age_bins = [0, 18, 30, 40, 50, 60, 100]\n",
    "age_labels = ['0-18', '19-30', '31-40', '41-50', '51-60', '61+']  # Labels for each age range\n",
    "\n",
    "# Create categorical variable with age levels\n",
    "data['AgeGroup'] = pd.cut(data['Delivery_person_Age'], bins=age_bins, labels=age_labels)\n",
    "\n",
    "data.shape"
   ]
  },
  {
   "cell_type": "markdown",
   "id": "7dfe92de",
   "metadata": {},
   "source": [
    "### Time taken into numeric"
   ]
  },
  {
   "cell_type": "code",
   "execution_count": 9,
   "id": "ae25af33-84b9-433c-9fec-fab1b0313097",
   "metadata": {},
   "outputs": [
    {
     "data": {
      "text/plain": [
       "0        24\n",
       "1        33\n",
       "2        26\n",
       "3        21\n",
       "4        30\n",
       "         ..\n",
       "45588    32\n",
       "45589    36\n",
       "45590    16\n",
       "45591    26\n",
       "45592    36\n",
       "Name: Time_taken(min), Length: 45593, dtype: int64"
      ]
     },
     "execution_count": 9,
     "metadata": {},
     "output_type": "execute_result"
    }
   ],
   "source": [
    "# turn Time_taken into numeric\n",
    "data[\"Time_taken(min)\"] = data[\"Time_taken(min)\"].str.extract('(\\d+)')\n",
    "data[\"Time_taken(min)\"] = pd.to_numeric(data[\"Time_taken(min)\"])\n",
    "data[\"Time_taken(min)\"].astype('int64')"
   ]
  },
  {
   "cell_type": "markdown",
   "id": "49e94b26",
   "metadata": {},
   "source": [
    "### Ratings to float"
   ]
  },
  {
   "cell_type": "code",
   "execution_count": 10,
   "id": "140ff4c6-0125-4c18-b594-3d4c96d509a7",
   "metadata": {
    "scrolled": true
   },
   "outputs": [
    {
     "data": {
      "text/html": [
       "<div>\n",
       "<style scoped>\n",
       "    .dataframe tbody tr th:only-of-type {\n",
       "        vertical-align: middle;\n",
       "    }\n",
       "\n",
       "    .dataframe tbody tr th {\n",
       "        vertical-align: top;\n",
       "    }\n",
       "\n",
       "    .dataframe thead th {\n",
       "        text-align: right;\n",
       "    }\n",
       "</style>\n",
       "<table border=\"1\" class=\"dataframe\">\n",
       "  <thead>\n",
       "    <tr style=\"text-align: right;\">\n",
       "      <th></th>\n",
       "      <th>ID</th>\n",
       "      <th>Delivery_person_ID</th>\n",
       "      <th>Delivery_person_Age</th>\n",
       "      <th>Delivery_person_Ratings</th>\n",
       "      <th>Restaurant_latitude</th>\n",
       "      <th>Restaurant_longitude</th>\n",
       "      <th>Delivery_location_latitude</th>\n",
       "      <th>Delivery_location_longitude</th>\n",
       "      <th>Order_Date</th>\n",
       "      <th>Time_Orderd</th>\n",
       "      <th>...</th>\n",
       "      <th>Weatherconditions</th>\n",
       "      <th>Road_traffic_density</th>\n",
       "      <th>Vehicle_condition</th>\n",
       "      <th>Type_of_order</th>\n",
       "      <th>Type_of_vehicle</th>\n",
       "      <th>multiple_deliveries</th>\n",
       "      <th>Festival</th>\n",
       "      <th>City</th>\n",
       "      <th>Time_taken(min)</th>\n",
       "      <th>AgeGroup</th>\n",
       "    </tr>\n",
       "  </thead>\n",
       "  <tbody>\n",
       "    <tr>\n",
       "      <th>0</th>\n",
       "      <td>0x4607</td>\n",
       "      <td>INDORES13DEL02</td>\n",
       "      <td>37.0</td>\n",
       "      <td>4.9</td>\n",
       "      <td>22.745049</td>\n",
       "      <td>75.892471</td>\n",
       "      <td>22.765049</td>\n",
       "      <td>75.912471</td>\n",
       "      <td>19-03-2022</td>\n",
       "      <td>11:30:00</td>\n",
       "      <td>...</td>\n",
       "      <td>conditions Sunny</td>\n",
       "      <td>High</td>\n",
       "      <td>2</td>\n",
       "      <td>Snack</td>\n",
       "      <td>motorcycle</td>\n",
       "      <td>0</td>\n",
       "      <td>No</td>\n",
       "      <td>Urban</td>\n",
       "      <td>24</td>\n",
       "      <td>31-40</td>\n",
       "    </tr>\n",
       "    <tr>\n",
       "      <th>1</th>\n",
       "      <td>0xb379</td>\n",
       "      <td>BANGRES18DEL02</td>\n",
       "      <td>34.0</td>\n",
       "      <td>4.5</td>\n",
       "      <td>12.913041</td>\n",
       "      <td>77.683237</td>\n",
       "      <td>13.043041</td>\n",
       "      <td>77.813237</td>\n",
       "      <td>25-03-2022</td>\n",
       "      <td>19:45:00</td>\n",
       "      <td>...</td>\n",
       "      <td>conditions Stormy</td>\n",
       "      <td>Jam</td>\n",
       "      <td>2</td>\n",
       "      <td>Snack</td>\n",
       "      <td>scooter</td>\n",
       "      <td>1</td>\n",
       "      <td>No</td>\n",
       "      <td>Metropolitian</td>\n",
       "      <td>33</td>\n",
       "      <td>31-40</td>\n",
       "    </tr>\n",
       "    <tr>\n",
       "      <th>2</th>\n",
       "      <td>0x5d6d</td>\n",
       "      <td>BANGRES19DEL01</td>\n",
       "      <td>23.0</td>\n",
       "      <td>4.4</td>\n",
       "      <td>12.914264</td>\n",
       "      <td>77.678400</td>\n",
       "      <td>12.924264</td>\n",
       "      <td>77.688400</td>\n",
       "      <td>19-03-2022</td>\n",
       "      <td>08:30:00</td>\n",
       "      <td>...</td>\n",
       "      <td>conditions Sandstorms</td>\n",
       "      <td>Low</td>\n",
       "      <td>0</td>\n",
       "      <td>Drinks</td>\n",
       "      <td>motorcycle</td>\n",
       "      <td>1</td>\n",
       "      <td>No</td>\n",
       "      <td>Urban</td>\n",
       "      <td>26</td>\n",
       "      <td>19-30</td>\n",
       "    </tr>\n",
       "    <tr>\n",
       "      <th>3</th>\n",
       "      <td>0x7a6a</td>\n",
       "      <td>COIMBRES13DEL02</td>\n",
       "      <td>38.0</td>\n",
       "      <td>4.7</td>\n",
       "      <td>11.003669</td>\n",
       "      <td>76.976494</td>\n",
       "      <td>11.053669</td>\n",
       "      <td>77.026494</td>\n",
       "      <td>05-04-2022</td>\n",
       "      <td>18:00:00</td>\n",
       "      <td>...</td>\n",
       "      <td>conditions Sunny</td>\n",
       "      <td>Medium</td>\n",
       "      <td>0</td>\n",
       "      <td>Buffet</td>\n",
       "      <td>motorcycle</td>\n",
       "      <td>1</td>\n",
       "      <td>No</td>\n",
       "      <td>Metropolitian</td>\n",
       "      <td>21</td>\n",
       "      <td>31-40</td>\n",
       "    </tr>\n",
       "    <tr>\n",
       "      <th>4</th>\n",
       "      <td>0x70a2</td>\n",
       "      <td>CHENRES12DEL01</td>\n",
       "      <td>32.0</td>\n",
       "      <td>4.6</td>\n",
       "      <td>12.972793</td>\n",
       "      <td>80.249982</td>\n",
       "      <td>13.012793</td>\n",
       "      <td>80.289982</td>\n",
       "      <td>26-03-2022</td>\n",
       "      <td>13:30:00</td>\n",
       "      <td>...</td>\n",
       "      <td>conditions Cloudy</td>\n",
       "      <td>High</td>\n",
       "      <td>1</td>\n",
       "      <td>Snack</td>\n",
       "      <td>scooter</td>\n",
       "      <td>1</td>\n",
       "      <td>No</td>\n",
       "      <td>Metropolitian</td>\n",
       "      <td>30</td>\n",
       "      <td>31-40</td>\n",
       "    </tr>\n",
       "  </tbody>\n",
       "</table>\n",
       "<p>5 rows × 21 columns</p>\n",
       "</div>"
      ],
      "text/plain": [
       "        ID Delivery_person_ID  Delivery_person_Age  Delivery_person_Ratings  \\\n",
       "0  0x4607     INDORES13DEL02                  37.0                      4.9   \n",
       "1  0xb379     BANGRES18DEL02                  34.0                      4.5   \n",
       "2  0x5d6d     BANGRES19DEL01                  23.0                      4.4   \n",
       "3  0x7a6a    COIMBRES13DEL02                  38.0                      4.7   \n",
       "4  0x70a2     CHENRES12DEL01                  32.0                      4.6   \n",
       "\n",
       "   Restaurant_latitude  Restaurant_longitude  Delivery_location_latitude  \\\n",
       "0            22.745049             75.892471                   22.765049   \n",
       "1            12.913041             77.683237                   13.043041   \n",
       "2            12.914264             77.678400                   12.924264   \n",
       "3            11.003669             76.976494                   11.053669   \n",
       "4            12.972793             80.249982                   13.012793   \n",
       "\n",
       "   Delivery_location_longitude  Order_Date Time_Orderd  ...  \\\n",
       "0                    75.912471  19-03-2022    11:30:00  ...   \n",
       "1                    77.813237  25-03-2022    19:45:00  ...   \n",
       "2                    77.688400  19-03-2022    08:30:00  ...   \n",
       "3                    77.026494  05-04-2022    18:00:00  ...   \n",
       "4                    80.289982  26-03-2022    13:30:00  ...   \n",
       "\n",
       "       Weatherconditions Road_traffic_density Vehicle_condition  \\\n",
       "0       conditions Sunny                High                  2   \n",
       "1      conditions Stormy                 Jam                  2   \n",
       "2  conditions Sandstorms                 Low                  0   \n",
       "3       conditions Sunny              Medium                  0   \n",
       "4      conditions Cloudy                High                  1   \n",
       "\n",
       "   Type_of_order Type_of_vehicle multiple_deliveries Festival            City  \\\n",
       "0         Snack      motorcycle                    0      No           Urban    \n",
       "1         Snack         scooter                    1      No   Metropolitian    \n",
       "2        Drinks      motorcycle                    1      No           Urban    \n",
       "3        Buffet      motorcycle                    1      No   Metropolitian    \n",
       "4         Snack         scooter                    1      No   Metropolitian    \n",
       "\n",
       "  Time_taken(min)  AgeGroup  \n",
       "0              24     31-40  \n",
       "1              33     31-40  \n",
       "2              26     19-30  \n",
       "3              21     31-40  \n",
       "4              30     31-40  \n",
       "\n",
       "[5 rows x 21 columns]"
      ]
     },
     "execution_count": 10,
     "metadata": {},
     "output_type": "execute_result"
    }
   ],
   "source": [
    "data = data.loc[data['Delivery_person_Ratings'] != \"NaN \"]\n",
    "data[\"Delivery_person_Ratings\"] = pd.to_numeric(data[\"Delivery_person_Ratings\"])\n",
    "data[\"Delivery_person_Ratings\"].astype('float64')\n",
    "data.head()"
   ]
  },
  {
   "cell_type": "markdown",
   "id": "9dfdd7d7",
   "metadata": {},
   "source": [
    "### Remove missing coordinate"
   ]
  },
  {
   "cell_type": "code",
   "execution_count": 11,
   "id": "1165073b",
   "metadata": {},
   "outputs": [],
   "source": [
    "data = data[data['Restaurant_latitude'].notna()]\n",
    "data = data[data['Restaurant_longitude'].notna()]"
   ]
  },
  {
   "cell_type": "markdown",
   "id": "d4d0b866",
   "metadata": {},
   "source": [
    "### Derive the distance between the restaurant and the delivery location using basic trigonometry\n"
   ]
  },
  {
   "cell_type": "code",
   "execution_count": 12,
   "id": "7ea85622-7460-4a02-a88c-f7548dfaa613",
   "metadata": {},
   "outputs": [],
   "source": [
    "def calcDistance(row):\n",
    "    lat1 = np.radians(row[\"Restaurant_latitude\"])\n",
    "    lon1 = np.radians(row[\"Restaurant_longitude\"])\n",
    "    lat2 = np.radians(row[\"Delivery_location_latitude\"])\n",
    "    lon2 = np.radians(row[\"Delivery_location_longitude\"])\n",
    "    return np.arccos(np.sin(lat1) * np.sin(lat2) + np.cos(lat1) * np.cos(lat2) * np.cos(lon2-lon1)) * 6371"
   ]
  },
  {
   "cell_type": "code",
   "execution_count": 13,
   "id": "d795aadc-63d7-4ea6-b8d9-a2d712475e06",
   "metadata": {},
   "outputs": [],
   "source": [
    "data[\"Distance\"] = data.apply(calcDistance, axis=1)"
   ]
  },
  {
   "cell_type": "markdown",
   "id": "bb6c77c5",
   "metadata": {},
   "source": [
    "### Convert the Order_Date to datetime format"
   ]
  },
  {
   "cell_type": "code",
   "execution_count": 14,
   "id": "36a554cb",
   "metadata": {},
   "outputs": [],
   "source": [
    "data['Order_Date'] = pd.to_datetime(data['Order_Date'], format='%d-%m-%Y')"
   ]
  },
  {
   "cell_type": "markdown",
   "id": "7eb76f70",
   "metadata": {},
   "source": [
    "### Creating a new column using Order_Date to determine the day of the week"
   ]
  },
  {
   "cell_type": "code",
   "execution_count": 15,
   "id": "3cb916ed",
   "metadata": {},
   "outputs": [],
   "source": [
    "data['Day'] = data['Order_Date'].dt.day_name()"
   ]
  },
  {
   "cell_type": "code",
   "execution_count": 16,
   "id": "cb8b22ee",
   "metadata": {},
   "outputs": [
    {
     "name": "stdout",
     "output_type": "stream",
     "text": [
      "<class 'pandas.core.frame.DataFrame'>\n",
      "Index: 41953 entries, 0 to 45592\n",
      "Data columns (total 23 columns):\n",
      " #   Column                       Non-Null Count  Dtype         \n",
      "---  ------                       --------------  -----         \n",
      " 0   ID                           41953 non-null  object        \n",
      " 1   Delivery_person_ID           41953 non-null  object        \n",
      " 2   Delivery_person_Age          40234 non-null  float64       \n",
      " 3   Delivery_person_Ratings      40190 non-null  float64       \n",
      " 4   Restaurant_latitude          41953 non-null  float64       \n",
      " 5   Restaurant_longitude         41953 non-null  float64       \n",
      " 6   Delivery_location_latitude   41953 non-null  float64       \n",
      " 7   Delivery_location_longitude  41953 non-null  float64       \n",
      " 8   Order_Date                   41953 non-null  datetime64[ns]\n",
      " 9   Time_Orderd                  40353 non-null  object        \n",
      " 10  Time_Order_picked            41953 non-null  object        \n",
      " 11  Weatherconditions            41953 non-null  object        \n",
      " 12  Road_traffic_density         41398 non-null  object        \n",
      " 13  Vehicle_condition            41953 non-null  int64         \n",
      " 14  Type_of_order                41953 non-null  object        \n",
      " 15  Type_of_vehicle              41953 non-null  object        \n",
      " 16  multiple_deliveries          41048 non-null  object        \n",
      " 17  Festival                     41738 non-null  object        \n",
      " 18  City                         40839 non-null  object        \n",
      " 19  Time_taken(min)              41953 non-null  int64         \n",
      " 20  AgeGroup                     40234 non-null  category      \n",
      " 21  Distance                     41953 non-null  float64       \n",
      " 22  Day                          41953 non-null  object        \n",
      "dtypes: category(1), datetime64[ns](1), float64(7), int64(2), object(12)\n",
      "memory usage: 7.4+ MB\n"
     ]
    }
   ],
   "source": [
    "data.info()"
   ]
  },
  {
   "cell_type": "code",
   "execution_count": 17,
   "id": "4b6e6762",
   "metadata": {},
   "outputs": [
    {
     "data": {
      "text/plain": [
       "array(['Saturday', 'Friday', 'Tuesday', 'Monday', 'Sunday', 'Wednesday',\n",
       "       'Thursday'], dtype=object)"
      ]
     },
     "execution_count": 17,
     "metadata": {},
     "output_type": "execute_result"
    }
   ],
   "source": [
    "data['Day'].unique()"
   ]
  },
  {
   "cell_type": "markdown",
   "id": "23b503fa",
   "metadata": {},
   "source": [
    "### Removing data entry's with no Time_Orderd"
   ]
  },
  {
   "cell_type": "code",
   "execution_count": 18,
   "id": "6dcb4f3d",
   "metadata": {},
   "outputs": [],
   "source": [
    "data = data[data['Time_Orderd'].notna()]\n"
   ]
  },
  {
   "cell_type": "code",
   "execution_count": 19,
   "id": "54908801",
   "metadata": {},
   "outputs": [
    {
     "data": {
      "text/plain": [
       "(40353, 23)"
      ]
     },
     "execution_count": 19,
     "metadata": {},
     "output_type": "execute_result"
    }
   ],
   "source": [
    "data.shape"
   ]
  },
  {
   "cell_type": "code",
   "execution_count": 20,
   "id": "282c208f",
   "metadata": {},
   "outputs": [
    {
     "data": {
      "text/plain": [
       "ID                                0\n",
       "Delivery_person_ID                0\n",
       "Delivery_person_Age             200\n",
       "Delivery_person_Ratings         244\n",
       "Restaurant_latitude               0\n",
       "Restaurant_longitude              0\n",
       "Delivery_location_latitude        0\n",
       "Delivery_location_longitude       0\n",
       "Order_Date                        0\n",
       "Time_Orderd                       0\n",
       "Time_Order_picked                 0\n",
       "Weatherconditions                 0\n",
       "Road_traffic_density              0\n",
       "Vehicle_condition                 0\n",
       "Type_of_order                     0\n",
       "Type_of_vehicle                   0\n",
       "multiple_deliveries             855\n",
       "Festival                        206\n",
       "City                           1059\n",
       "Time_taken(min)                   0\n",
       "AgeGroup                        200\n",
       "Distance                          0\n",
       "Day                               0\n",
       "dtype: int64"
      ]
     },
     "execution_count": 20,
     "metadata": {},
     "output_type": "execute_result"
    }
   ],
   "source": [
    "data.isna().sum()"
   ]
  },
  {
   "cell_type": "markdown",
   "id": "c0281f23",
   "metadata": {},
   "source": [
    "### Convert multiple_deliveries datatype to numeric"
   ]
  },
  {
   "cell_type": "code",
   "execution_count": 21,
   "id": "1ba092d7",
   "metadata": {},
   "outputs": [
    {
     "data": {
      "text/plain": [
       "0        0\n",
       "1        1\n",
       "2        1\n",
       "3        1\n",
       "4        1\n",
       "        ..\n",
       "45587    1\n",
       "45588    0\n",
       "45590    0\n",
       "45591    1\n",
       "45592    1\n",
       "Name: multiple_deliveries, Length: 40353, dtype: int32"
      ]
     },
     "execution_count": 21,
     "metadata": {},
     "output_type": "execute_result"
    }
   ],
   "source": [
    "data['multiple_deliveries'].fillna(-1, inplace=True)\n",
    "data[\"multiple_deliveries\"] = pd.to_numeric(data[\"multiple_deliveries\"])\n",
    "data[\"multiple_deliveries\"].astype(int)"
   ]
  },
  {
   "cell_type": "code",
   "execution_count": 22,
   "id": "03e8c44d",
   "metadata": {},
   "outputs": [
    {
     "data": {
      "text/plain": [
       "array(['No ', 'Yes ', nan], dtype=object)"
      ]
     },
     "execution_count": 22,
     "metadata": {},
     "output_type": "execute_result"
    }
   ],
   "source": [
    "data['Festival'].unique()"
   ]
  },
  {
   "cell_type": "code",
   "execution_count": 23,
   "id": "797a490a",
   "metadata": {},
   "outputs": [
    {
     "data": {
      "text/plain": [
       "array(['Urban ', 'Metropolitian ', nan, 'Semi-Urban '], dtype=object)"
      ]
     },
     "execution_count": 23,
     "metadata": {},
     "output_type": "execute_result"
    }
   ],
   "source": [
    "data['City'].unique()"
   ]
  },
  {
   "cell_type": "markdown",
   "id": "c7335378",
   "metadata": {},
   "source": [
    "### Impute NaN in Festival and City"
   ]
  },
  {
   "cell_type": "code",
   "execution_count": 24,
   "id": "067b04c3",
   "metadata": {},
   "outputs": [
    {
     "data": {
      "text/plain": [
       "count     40147\n",
       "unique        2\n",
       "top         No \n",
       "freq      39360\n",
       "Name: Festival, dtype: object"
      ]
     },
     "execution_count": 24,
     "metadata": {},
     "output_type": "execute_result"
    }
   ],
   "source": [
    "data['Festival'].describe()"
   ]
  },
  {
   "cell_type": "code",
   "execution_count": 25,
   "id": "b7e5263d",
   "metadata": {},
   "outputs": [
    {
     "data": {
      "text/plain": [
       "array(['No ', 'Yes '], dtype=object)"
      ]
     },
     "execution_count": 25,
     "metadata": {},
     "output_type": "execute_result"
    }
   ],
   "source": [
    "data['Festival'].fillna('No ', inplace=True)\n",
    "data['Festival'].unique()"
   ]
  },
  {
   "cell_type": "code",
   "execution_count": 26,
   "id": "dddfc991",
   "metadata": {},
   "outputs": [
    {
     "data": {
      "text/plain": [
       "count              39294\n",
       "unique                 3\n",
       "top       Metropolitian \n",
       "freq               30220\n",
       "Name: City, dtype: object"
      ]
     },
     "execution_count": 26,
     "metadata": {},
     "output_type": "execute_result"
    }
   ],
   "source": [
    "data['City'].describe()"
   ]
  },
  {
   "cell_type": "code",
   "execution_count": 27,
   "id": "4bc9a2c3",
   "metadata": {},
   "outputs": [
    {
     "data": {
      "text/plain": [
       "array(['Urban ', 'Metropolitian ', 'Semi-Urban '], dtype=object)"
      ]
     },
     "execution_count": 27,
     "metadata": {},
     "output_type": "execute_result"
    }
   ],
   "source": [
    "data['City'].fillna('Metropolitian ', inplace=True)\n",
    "data['City'].unique()"
   ]
  },
  {
   "cell_type": "code",
   "execution_count": 28,
   "id": "55921922",
   "metadata": {},
   "outputs": [
    {
     "data": {
      "text/plain": [
       "(40353, 23)"
      ]
     },
     "execution_count": 28,
     "metadata": {},
     "output_type": "execute_result"
    }
   ],
   "source": [
    "data.shape"
   ]
  },
  {
   "cell_type": "code",
   "execution_count": 29,
   "id": "c6537674",
   "metadata": {},
   "outputs": [
    {
     "name": "stdout",
     "output_type": "stream",
     "text": [
      "<class 'pandas.core.frame.DataFrame'>\n",
      "Index: 40353 entries, 0 to 45592\n",
      "Data columns (total 23 columns):\n",
      " #   Column                       Non-Null Count  Dtype         \n",
      "---  ------                       --------------  -----         \n",
      " 0   ID                           40353 non-null  object        \n",
      " 1   Delivery_person_ID           40353 non-null  object        \n",
      " 2   Delivery_person_Age          40153 non-null  float64       \n",
      " 3   Delivery_person_Ratings      40109 non-null  float64       \n",
      " 4   Restaurant_latitude          40353 non-null  float64       \n",
      " 5   Restaurant_longitude         40353 non-null  float64       \n",
      " 6   Delivery_location_latitude   40353 non-null  float64       \n",
      " 7   Delivery_location_longitude  40353 non-null  float64       \n",
      " 8   Order_Date                   40353 non-null  datetime64[ns]\n",
      " 9   Time_Orderd                  40353 non-null  object        \n",
      " 10  Time_Order_picked            40353 non-null  object        \n",
      " 11  Weatherconditions            40353 non-null  object        \n",
      " 12  Road_traffic_density         40353 non-null  object        \n",
      " 13  Vehicle_condition            40353 non-null  int64         \n",
      " 14  Type_of_order                40353 non-null  object        \n",
      " 15  Type_of_vehicle              40353 non-null  object        \n",
      " 16  multiple_deliveries          40353 non-null  int64         \n",
      " 17  Festival                     40353 non-null  object        \n",
      " 18  City                         40353 non-null  object        \n",
      " 19  Time_taken(min)              40353 non-null  int64         \n",
      " 20  AgeGroup                     40153 non-null  category      \n",
      " 21  Distance                     40353 non-null  float64       \n",
      " 22  Day                          40353 non-null  object        \n",
      "dtypes: category(1), datetime64[ns](1), float64(7), int64(3), object(11)\n",
      "memory usage: 7.1+ MB\n"
     ]
    }
   ],
   "source": [
    "data.info()"
   ]
  },
  {
   "cell_type": "code",
   "execution_count": 30,
   "id": "4c662170",
   "metadata": {},
   "outputs": [
    {
     "data": {
      "text/plain": [
       "ID                               0\n",
       "Delivery_person_ID               0\n",
       "Delivery_person_Age            200\n",
       "Delivery_person_Ratings        244\n",
       "Restaurant_latitude              0\n",
       "Restaurant_longitude             0\n",
       "Delivery_location_latitude       0\n",
       "Delivery_location_longitude      0\n",
       "Order_Date                       0\n",
       "Time_Orderd                      0\n",
       "Time_Order_picked                0\n",
       "Weatherconditions                0\n",
       "Road_traffic_density             0\n",
       "Vehicle_condition                0\n",
       "Type_of_order                    0\n",
       "Type_of_vehicle                  0\n",
       "multiple_deliveries              0\n",
       "Festival                         0\n",
       "City                             0\n",
       "Time_taken(min)                  0\n",
       "AgeGroup                       200\n",
       "Distance                         0\n",
       "Day                              0\n",
       "dtype: int64"
      ]
     },
     "execution_count": 30,
     "metadata": {},
     "output_type": "execute_result"
    }
   ],
   "source": [
    "data.isnull().sum()"
   ]
  },
  {
   "cell_type": "code",
   "execution_count": 31,
   "id": "ec51b0c0",
   "metadata": {},
   "outputs": [
    {
     "data": {
      "text/plain": [
       "count    40109.000000\n",
       "mean         4.633987\n",
       "std          0.314886\n",
       "min          2.500000\n",
       "25%          4.500000\n",
       "50%          4.700000\n",
       "75%          4.900000\n",
       "max          5.000000\n",
       "Name: Delivery_person_Ratings, dtype: float64"
      ]
     },
     "execution_count": 31,
     "metadata": {},
     "output_type": "execute_result"
    }
   ],
   "source": [
    "data['Delivery_person_Ratings'].describe()"
   ]
  },
  {
   "cell_type": "markdown",
   "id": "33901ae5",
   "metadata": {},
   "source": [
    "### Impute Delivery_person_Ratings"
   ]
  },
  {
   "cell_type": "code",
   "execution_count": 32,
   "id": "93378661",
   "metadata": {},
   "outputs": [],
   "source": [
    "data['Delivery_person_Ratings'].fillna(data['Delivery_person_Ratings'].mean(), inplace=True)"
   ]
  },
  {
   "cell_type": "code",
   "execution_count": 33,
   "id": "7075c07e",
   "metadata": {},
   "outputs": [
    {
     "data": {
      "text/plain": [
       "ID                               0\n",
       "Delivery_person_ID               0\n",
       "Delivery_person_Age            200\n",
       "Delivery_person_Ratings          0\n",
       "Restaurant_latitude              0\n",
       "Restaurant_longitude             0\n",
       "Delivery_location_latitude       0\n",
       "Delivery_location_longitude      0\n",
       "Order_Date                       0\n",
       "Time_Orderd                      0\n",
       "Time_Order_picked                0\n",
       "Weatherconditions                0\n",
       "Road_traffic_density             0\n",
       "Vehicle_condition                0\n",
       "Type_of_order                    0\n",
       "Type_of_vehicle                  0\n",
       "multiple_deliveries              0\n",
       "Festival                         0\n",
       "City                             0\n",
       "Time_taken(min)                  0\n",
       "AgeGroup                       200\n",
       "Distance                         0\n",
       "Day                              0\n",
       "dtype: int64"
      ]
     },
     "execution_count": 33,
     "metadata": {},
     "output_type": "execute_result"
    }
   ],
   "source": [
    "data.isnull().sum()"
   ]
  },
  {
   "cell_type": "code",
   "execution_count": 34,
   "id": "e6d905c8",
   "metadata": {},
   "outputs": [
    {
     "data": {
      "text/plain": [
       "count    40153.000000\n",
       "mean        29.552611\n",
       "std          5.760921\n",
       "min         20.000000\n",
       "25%         25.000000\n",
       "50%         30.000000\n",
       "75%         35.000000\n",
       "max         39.000000\n",
       "Name: Delivery_person_Age, dtype: float64"
      ]
     },
     "execution_count": 34,
     "metadata": {},
     "output_type": "execute_result"
    }
   ],
   "source": [
    "data['Delivery_person_Age'].describe()"
   ]
  },
  {
   "cell_type": "code",
   "execution_count": 35,
   "id": "7d898596",
   "metadata": {},
   "outputs": [
    {
     "data": {
      "text/plain": [
       "30.0"
      ]
     },
     "execution_count": 35,
     "metadata": {},
     "output_type": "execute_result"
    }
   ],
   "source": [
    "data['Delivery_person_Age'].median()"
   ]
  },
  {
   "cell_type": "code",
   "execution_count": 36,
   "id": "46b8fd30",
   "metadata": {},
   "outputs": [],
   "source": [
    "data['Delivery_person_Age'].fillna(data['Delivery_person_Age'].median(),inplace=True)"
   ]
  },
  {
   "cell_type": "code",
   "execution_count": 37,
   "id": "c25f945c",
   "metadata": {},
   "outputs": [],
   "source": [
    "data = data.drop(['ID'],axis=1)"
   ]
  },
  {
   "cell_type": "code",
   "execution_count": 38,
   "id": "6208ed54",
   "metadata": {},
   "outputs": [],
   "source": [
    "data = data.drop(['Delivery_person_ID'],axis=1)"
   ]
  },
  {
   "cell_type": "code",
   "execution_count": 39,
   "id": "35104883",
   "metadata": {},
   "outputs": [],
   "source": [
    "data = data.drop(['Order_Date'],axis=1)"
   ]
  },
  {
   "cell_type": "code",
   "execution_count": 40,
   "id": "04fcef03",
   "metadata": {},
   "outputs": [
    {
     "name": "stdout",
     "output_type": "stream",
     "text": [
      "<class 'pandas.core.frame.DataFrame'>\n",
      "Index: 40353 entries, 0 to 45592\n",
      "Data columns (total 20 columns):\n",
      " #   Column                       Non-Null Count  Dtype   \n",
      "---  ------                       --------------  -----   \n",
      " 0   Delivery_person_Age          40353 non-null  float64 \n",
      " 1   Delivery_person_Ratings      40353 non-null  float64 \n",
      " 2   Restaurant_latitude          40353 non-null  float64 \n",
      " 3   Restaurant_longitude         40353 non-null  float64 \n",
      " 4   Delivery_location_latitude   40353 non-null  float64 \n",
      " 5   Delivery_location_longitude  40353 non-null  float64 \n",
      " 6   Time_Orderd                  40353 non-null  object  \n",
      " 7   Time_Order_picked            40353 non-null  object  \n",
      " 8   Weatherconditions            40353 non-null  object  \n",
      " 9   Road_traffic_density         40353 non-null  object  \n",
      " 10  Vehicle_condition            40353 non-null  int64   \n",
      " 11  Type_of_order                40353 non-null  object  \n",
      " 12  Type_of_vehicle              40353 non-null  object  \n",
      " 13  multiple_deliveries          40353 non-null  int64   \n",
      " 14  Festival                     40353 non-null  object  \n",
      " 15  City                         40353 non-null  object  \n",
      " 16  Time_taken(min)              40353 non-null  int64   \n",
      " 17  AgeGroup                     40153 non-null  category\n",
      " 18  Distance                     40353 non-null  float64 \n",
      " 19  Day                          40353 non-null  object  \n",
      "dtypes: category(1), float64(7), int64(3), object(9)\n",
      "memory usage: 6.2+ MB\n"
     ]
    }
   ],
   "source": [
    "data.info()"
   ]
  },
  {
   "cell_type": "code",
   "execution_count": 41,
   "id": "7c9d551b",
   "metadata": {},
   "outputs": [],
   "source": [
    "data = data.rename(columns={'Delivery_person_Age' : 'Age',\n",
    "                            'Delivery_person_Ratings': 'Ratings',\n",
    "                            'Restaurant_latitude': 'RestaurantLat',\n",
    "                            'Restaurant_longitude': 'RestaurantLon',\n",
    "                            'Delivery_location_latitude': 'DeliveryLocationLat',\n",
    "                            'Delivery_location_longitude': 'DeliveryLocationLon',\n",
    "                            'Time_Orderd': 'TimeOrdered',\n",
    "                            'Time_Order_picked': 'TimeOrderPickedUp',\n",
    "                            'Weatherconditions': 'WeatherConditions',\n",
    "                            'Road_traffic_density': 'RoadTrafficDensity',\n",
    "                            'Vehicle_condition': 'VehicleCondition',\n",
    "                            'Type_of_order': 'TypeOfOrder',\n",
    "                            'Type_of_vehicle': 'TypeOfVehicle',\n",
    "                            'multiple_deliveries': 'MultipleDeliveries',\n",
    "                            'Time_taken(min)': 'TimeTaken' ,\n",
    "                            })"
   ]
  },
  {
   "cell_type": "code",
   "execution_count": 42,
   "id": "146fef45",
   "metadata": {},
   "outputs": [
    {
     "name": "stdout",
     "output_type": "stream",
     "text": [
      "<class 'pandas.core.frame.DataFrame'>\n",
      "Index: 40353 entries, 0 to 45592\n",
      "Data columns (total 20 columns):\n",
      " #   Column               Non-Null Count  Dtype   \n",
      "---  ------               --------------  -----   \n",
      " 0   Age                  40353 non-null  float64 \n",
      " 1   Ratings              40353 non-null  float64 \n",
      " 2   RestaurantLat        40353 non-null  float64 \n",
      " 3   RestaurantLon        40353 non-null  float64 \n",
      " 4   DeliveryLocationLat  40353 non-null  float64 \n",
      " 5   DeliveryLocationLon  40353 non-null  float64 \n",
      " 6   TimeOrdered          40353 non-null  object  \n",
      " 7   TimeOrderPickedUp    40353 non-null  object  \n",
      " 8   WeatherConditions    40353 non-null  object  \n",
      " 9   RoadTrafficDensity   40353 non-null  object  \n",
      " 10  VehicleCondition     40353 non-null  int64   \n",
      " 11  TypeOfOrder          40353 non-null  object  \n",
      " 12  TypeOfVehicle        40353 non-null  object  \n",
      " 13  MultipleDeliveries   40353 non-null  int64   \n",
      " 14  Festival             40353 non-null  object  \n",
      " 15  City                 40353 non-null  object  \n",
      " 16  TimeTaken            40353 non-null  int64   \n",
      " 17  AgeGroup             40153 non-null  category\n",
      " 18  Distance             40353 non-null  float64 \n",
      " 19  Day                  40353 non-null  object  \n",
      "dtypes: category(1), float64(7), int64(3), object(9)\n",
      "memory usage: 6.2+ MB\n"
     ]
    }
   ],
   "source": [
    "data.info()"
   ]
  },
  {
   "cell_type": "code",
   "execution_count": 44,
   "id": "5c135004",
   "metadata": {},
   "outputs": [],
   "source": [
    "data.to_csv(r'train_cleaned.csv', index=False)"
   ]
  },
  {
   "cell_type": "code",
   "execution_count": null,
   "id": "8251011e",
   "metadata": {},
   "outputs": [],
   "source": []
  }
 ],
 "metadata": {
  "kernelspec": {
   "display_name": "Python 3 (ipykernel)",
   "language": "python",
   "name": "python3"
  },
  "language_info": {
   "codemirror_mode": {
    "name": "ipython",
    "version": 3
   },
   "file_extension": ".py",
   "mimetype": "text/x-python",
   "name": "python",
   "nbconvert_exporter": "python",
   "pygments_lexer": "ipython3",
   "version": "3.11.5"
  }
 },
 "nbformat": 4,
 "nbformat_minor": 5
}
